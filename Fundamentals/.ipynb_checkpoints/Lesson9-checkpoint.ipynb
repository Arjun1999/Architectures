{
 "cells": [
  {
   "cell_type": "code",
   "execution_count": 222,
   "id": "c315fcda",
   "metadata": {},
   "outputs": [],
   "source": [
    "from pathlib import Path\n",
    "from IPython.core.debugger import set_trace\n",
    "from fastai import datasets\n",
    "import pickle, gzip, math, torch, matplotlib as mpl\n",
    "import matplotlib.pyplot as plt\n",
    "from torch import tensor"
   ]
  },
  {
   "cell_type": "code",
   "execution_count": 223,
   "id": "215b2c1d",
   "metadata": {},
   "outputs": [],
   "source": [
    "def get_data():\n",
    "    path = \"mnist.pkl.gz\"\n",
    "    \n",
    "    with gzip.open(path, 'rb') as f:\n",
    "        ((x_train, y_train), (x_valid, y_valid), _) = pickle.load(f, encoding='latin-1')\n",
    "        \n",
    "    return map(tensor, (x_train, y_train, x_valid, y_valid))\n",
    "\n",
    "def normalize(x, m, s):\n",
    "    return (x-m) / s"
   ]
  },
  {
   "cell_type": "code",
   "execution_count": 224,
   "id": "aa769652",
   "metadata": {},
   "outputs": [],
   "source": [
    "x_train, y_train, x_valid, y_valid = get_data()\n",
    "train_mean, train_std = x_train.mean(), x_train.std()\n",
    "x_train = normalize(x_train, train_mean, train_std)\n",
    "x_valid = normalize(x_valid, train_mean, train_std)"
   ]
  },
  {
   "cell_type": "code",
   "execution_count": 225,
   "id": "8b98b2a7",
   "metadata": {},
   "outputs": [],
   "source": [
    "x_train = x_train.view(-1, 1, 28, 28)\n",
    "x_valid = x_valid.view(-1, 1, 28, 28)"
   ]
  },
  {
   "cell_type": "code",
   "execution_count": 226,
   "id": "c60fe37f",
   "metadata": {},
   "outputs": [
    {
     "data": {
      "text/plain": [
       "(torch.Size([50000, 1, 28, 28]), torch.Size([10000, 1, 28, 28]))"
      ]
     },
     "execution_count": 226,
     "metadata": {},
     "output_type": "execute_result"
    }
   ],
   "source": [
    "x_train.shape, x_valid.shape"
   ]
  },
  {
   "cell_type": "code",
   "execution_count": 227,
   "id": "bf957c12",
   "metadata": {},
   "outputs": [
    {
     "data": {
      "text/plain": [
       "(50000, tensor(10))"
      ]
     },
     "execution_count": 227,
     "metadata": {},
     "output_type": "execute_result"
    }
   ],
   "source": [
    "n, *_ = x_train.shape\n",
    "c = y_train.max() + 1\n",
    "nh = 32\n",
    "n, c"
   ]
  },
  {
   "cell_type": "code",
   "execution_count": 228,
   "id": "a87181f7",
   "metadata": {},
   "outputs": [],
   "source": [
    "from torch import nn"
   ]
  },
  {
   "cell_type": "code",
   "execution_count": 229,
   "id": "0f278c6d",
   "metadata": {},
   "outputs": [],
   "source": [
    "l1 = nn.Conv2d(1, nh, 5)"
   ]
  },
  {
   "cell_type": "code",
   "execution_count": 230,
   "id": "5b18b84b",
   "metadata": {},
   "outputs": [],
   "source": [
    "x = x_valid[:100]"
   ]
  },
  {
   "cell_type": "code",
   "execution_count": 231,
   "id": "6c8fe54b",
   "metadata": {},
   "outputs": [
    {
     "data": {
      "text/plain": [
       "torch.Size([100, 1, 28, 28])"
      ]
     },
     "execution_count": 231,
     "metadata": {},
     "output_type": "execute_result"
    }
   ],
   "source": [
    "x.shape"
   ]
  },
  {
   "cell_type": "code",
   "execution_count": 232,
   "id": "b2d50df1",
   "metadata": {},
   "outputs": [],
   "source": [
    "def stats(x):\n",
    "    return x.mean(), x.std()"
   ]
  },
  {
   "cell_type": "code",
   "execution_count": 233,
   "id": "6b5154b3",
   "metadata": {},
   "outputs": [
    {
     "data": {
      "text/plain": [
       "((tensor(0.0024, grad_fn=<MeanBackward0>),\n",
       "  tensor(0.1160, grad_fn=<StdBackward0>)),\n",
       " (tensor(0.0058, grad_fn=<MeanBackward0>),\n",
       "  tensor(0.1254, grad_fn=<StdBackward0>)))"
      ]
     },
     "execution_count": 233,
     "metadata": {},
     "output_type": "execute_result"
    }
   ],
   "source": [
    "stats(l1.weight), stats(l1.bias)"
   ]
  },
  {
   "cell_type": "code",
   "execution_count": 234,
   "id": "dfca77d3",
   "metadata": {},
   "outputs": [],
   "source": [
    "t = l1(x)"
   ]
  },
  {
   "cell_type": "code",
   "execution_count": 235,
   "id": "fa938d66",
   "metadata": {},
   "outputs": [
    {
     "data": {
      "text/plain": [
       "(tensor(0.0113, grad_fn=<MeanBackward0>),\n",
       " tensor(0.6699, grad_fn=<StdBackward0>))"
      ]
     },
     "execution_count": 235,
     "metadata": {},
     "output_type": "execute_result"
    }
   ],
   "source": [
    "stats(t)"
   ]
  },
  {
   "cell_type": "code",
   "execution_count": 236,
   "id": "c2a3851d",
   "metadata": {},
   "outputs": [
    {
     "data": {
      "text/plain": [
       "(tensor(-0.0112, grad_fn=<MeanBackward0>),\n",
       " tensor(1.0991, grad_fn=<StdBackward0>))"
      ]
     },
     "execution_count": 236,
     "metadata": {},
     "output_type": "execute_result"
    }
   ],
   "source": [
    "from torch.nn import init\n",
    "\n",
    "init.kaiming_normal_(l1.weight, a=1.)\n",
    "stats(l1(x))"
   ]
  },
  {
   "cell_type": "code",
   "execution_count": 237,
   "id": "86f17ec4",
   "metadata": {},
   "outputs": [],
   "source": [
    "import torch.nn.functional as F"
   ]
  },
  {
   "cell_type": "code",
   "execution_count": 238,
   "id": "08fa3e99",
   "metadata": {},
   "outputs": [],
   "source": [
    "def f1(x, a=0):\n",
    "    return F.leaky_relu(l1(x), a)"
   ]
  },
  {
   "cell_type": "code",
   "execution_count": 239,
   "id": "2c8a2f76",
   "metadata": {},
   "outputs": [
    {
     "data": {
      "text/plain": [
       "(tensor(0.5663, grad_fn=<MeanBackward0>),\n",
       " tensor(0.9656, grad_fn=<StdBackward0>))"
      ]
     },
     "execution_count": 239,
     "metadata": {},
     "output_type": "execute_result"
    }
   ],
   "source": [
    "init.kaiming_normal_(l1.weight, a=0)\n",
    "stats(f1(x))"
   ]
  },
  {
   "cell_type": "code",
   "execution_count": 240,
   "id": "508a1429",
   "metadata": {},
   "outputs": [
    {
     "data": {
      "text/plain": [
       "(tensor(0.2435, grad_fn=<MeanBackward0>),\n",
       " tensor(0.4603, grad_fn=<StdBackward0>))"
      ]
     },
     "execution_count": 240,
     "metadata": {},
     "output_type": "execute_result"
    }
   ],
   "source": [
    "l1 = nn.Conv2d(1, nh, 5)\n",
    "stats(f1(x))"
   ]
  },
  {
   "cell_type": "code",
   "execution_count": 241,
   "id": "bec15b47",
   "metadata": {},
   "outputs": [
    {
     "data": {
      "text/plain": [
       "(torch.Size([32, 1, 5, 5]), torch.Size([32]))"
      ]
     },
     "execution_count": 241,
     "metadata": {},
     "output_type": "execute_result"
    }
   ],
   "source": [
    "l1.weight.shape, l1.bias.shape"
   ]
  },
  {
   "cell_type": "code",
   "execution_count": 242,
   "id": "78dd0f75",
   "metadata": {},
   "outputs": [
    {
     "data": {
      "text/plain": [
       "25"
      ]
     },
     "execution_count": 242,
     "metadata": {},
     "output_type": "execute_result"
    }
   ],
   "source": [
    "rec_fs = l1.weight[0,0].numel()\n",
    "rec_fs"
   ]
  },
  {
   "cell_type": "code",
   "execution_count": 243,
   "id": "6f5f79c1",
   "metadata": {},
   "outputs": [
    {
     "data": {
      "text/plain": [
       "(32, 1)"
      ]
     },
     "execution_count": 243,
     "metadata": {},
     "output_type": "execute_result"
    }
   ],
   "source": [
    "nf, ni, * _ = l1.weight.shape\n",
    "nf, ni"
   ]
  },
  {
   "cell_type": "code",
   "execution_count": 244,
   "id": "0b725298",
   "metadata": {},
   "outputs": [
    {
     "data": {
      "text/plain": [
       "(25, 800)"
      ]
     },
     "execution_count": 244,
     "metadata": {},
     "output_type": "execute_result"
    }
   ],
   "source": [
    "fan_in  =  ni * rec_fs\n",
    "fan_out =  nf * rec_fs\n",
    "fan_in, fan_out"
   ]
  },
  {
   "cell_type": "code",
   "execution_count": 245,
   "id": "1cfb9348",
   "metadata": {},
   "outputs": [],
   "source": [
    "def gain(a):\n",
    "    return math.sqrt(2.0 / (1 + a**2))"
   ]
  },
  {
   "cell_type": "code",
   "execution_count": 246,
   "id": "0d3e74f2",
   "metadata": {},
   "outputs": [],
   "source": [
    "# Model"
   ]
  },
  {
   "cell_type": "code",
   "execution_count": 247,
   "id": "0ce97187",
   "metadata": {},
   "outputs": [],
   "source": [
    "x_train, y_train, x_valid, y_valid = get_data()\n",
    "train_mean, train_std = x_train.mean(), x_train.std()\n",
    "x_train = normalize(x_train, train_mean, train_std)\n",
    "x_valid = normalize(x_valid, train_mean, train_std)"
   ]
  },
  {
   "cell_type": "code",
   "execution_count": 248,
   "id": "fe273ed0",
   "metadata": {},
   "outputs": [
    {
     "data": {
      "text/plain": [
       "(50000, 784, tensor(10))"
      ]
     },
     "execution_count": 248,
     "metadata": {},
     "output_type": "execute_result"
    }
   ],
   "source": [
    "n, m = x_train.shape\n",
    "c = y_train.max() + 1\n",
    "n, m, c"
   ]
  },
  {
   "cell_type": "code",
   "execution_count": 249,
   "id": "9274d75a",
   "metadata": {},
   "outputs": [],
   "source": [
    "nh = 50"
   ]
  },
  {
   "cell_type": "code",
   "execution_count": 250,
   "id": "ed2e7a10",
   "metadata": {},
   "outputs": [],
   "source": [
    "def mse(output, targ):\n",
    "    return (output.squeeze(-1) - targ).pow(2).mean()"
   ]
  },
  {
   "cell_type": "code",
   "execution_count": 251,
   "id": "292e3377",
   "metadata": {},
   "outputs": [],
   "source": [
    "class Model(nn.Module):\n",
    "    def __init__(self, n_in, nh, n_out):\n",
    "        super().__init__()\n",
    "        self.layers = [nn.Linear(n_in, nh), nn.ReLU(), nn.Linear(nh, n_out)]\n",
    "#         self.loss = mse\n",
    "        \n",
    "    def __call__(self, x):\n",
    "        for l in self.layers:\n",
    "            x = l(x)\n",
    "            \n",
    "        return x"
   ]
  },
  {
   "cell_type": "code",
   "execution_count": 252,
   "id": "74c4506a",
   "metadata": {},
   "outputs": [],
   "source": [
    "model = Model(m, nh, 10)"
   ]
  },
  {
   "cell_type": "code",
   "execution_count": 253,
   "id": "fbc0800d",
   "metadata": {},
   "outputs": [],
   "source": [
    "pred = model(x_train)"
   ]
  },
  {
   "cell_type": "code",
   "execution_count": null,
   "id": "c97e167c",
   "metadata": {},
   "outputs": [],
   "source": []
  },
  {
   "cell_type": "code",
   "execution_count": 254,
   "id": "9cf24e45",
   "metadata": {},
   "outputs": [],
   "source": [
    "### Cross Entropy Loss"
   ]
  },
  {
   "cell_type": "code",
   "execution_count": 255,
   "id": "5afe84fe",
   "metadata": {},
   "outputs": [],
   "source": [
    "def log_softmax(x):\n",
    "    return (x.exp()/(x.exp().sum(-1, keepdim = True))).log()"
   ]
  },
  {
   "cell_type": "code",
   "execution_count": 256,
   "id": "2e67f4f2",
   "metadata": {},
   "outputs": [],
   "source": [
    "sm_pred = log_softmax(pred)"
   ]
  },
  {
   "cell_type": "code",
   "execution_count": 257,
   "id": "0cd1aa13",
   "metadata": {},
   "outputs": [
    {
     "data": {
      "text/plain": [
       "torch.Size([50000])"
      ]
     },
     "execution_count": 257,
     "metadata": {},
     "output_type": "execute_result"
    }
   ],
   "source": [
    "y_train.shape"
   ]
  },
  {
   "cell_type": "code",
   "execution_count": 258,
   "id": "3445a249",
   "metadata": {},
   "outputs": [],
   "source": [
    "def nll(input, targ):\n",
    "    return -input[range(targ.shape[0]), targ].mean()"
   ]
  },
  {
   "cell_type": "code",
   "execution_count": 259,
   "id": "bb68996f",
   "metadata": {},
   "outputs": [],
   "source": [
    "loss = nll(sm_pred, y_train)"
   ]
  },
  {
   "cell_type": "code",
   "execution_count": 260,
   "id": "03532ec1",
   "metadata": {},
   "outputs": [
    {
     "data": {
      "text/plain": [
       "tensor(2.3592, grad_fn=<NegBackward0>)"
      ]
     },
     "execution_count": 260,
     "metadata": {},
     "output_type": "execute_result"
    }
   ],
   "source": [
    "loss"
   ]
  },
  {
   "cell_type": "code",
   "execution_count": 261,
   "id": "9663041f",
   "metadata": {},
   "outputs": [],
   "source": [
    "# Simplify\n",
    "\n",
    "def log_softmax(x):\n",
    "    return x - x.exp().sum(-1, keepdim = True).log()"
   ]
  },
  {
   "cell_type": "code",
   "execution_count": 262,
   "id": "7f615d22",
   "metadata": {},
   "outputs": [],
   "source": [
    "# LogSumExp for Numeric Stability\n",
    "\n",
    "def logsumexp(x):\n",
    "    m = x.max(-1)[0]\n",
    "    return (m + (x-m[:, None]).exp().sum(-1, keepdim = True).log())"
   ]
  },
  {
   "cell_type": "code",
   "execution_count": 263,
   "id": "ea355ce1",
   "metadata": {},
   "outputs": [],
   "source": [
    "# Apply LogSumExp trick\n",
    "\n",
    "def log_softmax(x):\n",
    "    return x - x.logsumexp(-1, keepdim = True)"
   ]
  },
  {
   "cell_type": "code",
   "execution_count": null,
   "id": "fb696ec7",
   "metadata": {},
   "outputs": [],
   "source": []
  },
  {
   "cell_type": "code",
   "execution_count": 264,
   "id": "1ea679d8",
   "metadata": {},
   "outputs": [],
   "source": [
    "### Basic Training Loop"
   ]
  },
  {
   "cell_type": "code",
   "execution_count": 265,
   "id": "0d0a8bfa",
   "metadata": {},
   "outputs": [],
   "source": [
    "loss_func = F.cross_entropy"
   ]
  },
  {
   "cell_type": "code",
   "execution_count": 266,
   "id": "b2fe4955",
   "metadata": {},
   "outputs": [],
   "source": [
    "def accuracy(out, yb):\n",
    "    return (torch.argmax(out, dim=1) == yb).float().mean()"
   ]
  },
  {
   "cell_type": "code",
   "execution_count": 267,
   "id": "29122372",
   "metadata": {},
   "outputs": [
    {
     "data": {
      "text/plain": [
       "(tensor([ 0.1289,  0.4240,  0.4513, -0.2447, -0.1585,  0.1869, -0.2168, -0.0179,\n",
       "         -0.3691, -0.3612], grad_fn=<SelectBackward0>),\n",
       " torch.Size([64, 10]))"
      ]
     },
     "execution_count": 267,
     "metadata": {},
     "output_type": "execute_result"
    }
   ],
   "source": [
    "bs = 64\n",
    "\n",
    "xb = x_train[0:bs]\n",
    "preds = model(xb)\n",
    "preds[0], preds.shape"
   ]
  },
  {
   "cell_type": "code",
   "execution_count": 268,
   "id": "41abf9d9",
   "metadata": {},
   "outputs": [
    {
     "data": {
      "text/plain": [
       "tensor(2.3821, grad_fn=<NllLossBackward0>)"
      ]
     },
     "execution_count": 268,
     "metadata": {},
     "output_type": "execute_result"
    }
   ],
   "source": [
    "yb = y_train[0:bs]\n",
    "loss_func(preds, yb)"
   ]
  },
  {
   "cell_type": "code",
   "execution_count": 269,
   "id": "1023a5e8",
   "metadata": {
    "scrolled": true
   },
   "outputs": [
    {
     "data": {
      "text/plain": [
       "tensor(0.0469)"
      ]
     },
     "execution_count": 269,
     "metadata": {},
     "output_type": "execute_result"
    }
   ],
   "source": [
    "accuracy(preds, yb)"
   ]
  },
  {
   "cell_type": "code",
   "execution_count": 270,
   "id": "c66de788",
   "metadata": {},
   "outputs": [],
   "source": [
    "# Training Loop"
   ]
  },
  {
   "cell_type": "code",
   "execution_count": 271,
   "id": "48f182a6",
   "metadata": {},
   "outputs": [],
   "source": [
    "lr = 0.5\n",
    "epochs = 1"
   ]
  },
  {
   "cell_type": "code",
   "execution_count": 272,
   "id": "6b4bfe3c",
   "metadata": {},
   "outputs": [],
   "source": [
    "for epoch in range(epochs):\n",
    "    for i in range((n-1) // bs + 1):\n",
    "        start_i = i*bs\n",
    "        end_i = start_i + bs\n",
    "        \n",
    "        xb = x_train[start_i:end_i]\n",
    "        yb = y_train[start_i:end_i]\n",
    "        \n",
    "        loss = loss_func(model(xb), yb)\n",
    "        \n",
    "        loss.backward()\n",
    "        \n",
    "        with torch.no_grad():\n",
    "            for l in model.layers:\n",
    "                if hasattr(l, \"weight\"):\n",
    "                    l.weight -= l.weight.grad * lr\n",
    "                    l.bias -= l.bias.grad * lr\n",
    "                    \n",
    "                    l.weight.grad.zero_()\n",
    "                    l.bias.grad.zero_()"
   ]
  },
  {
   "cell_type": "code",
   "execution_count": 273,
   "id": "59e78adc",
   "metadata": {},
   "outputs": [
    {
     "data": {
      "text/plain": [
       "(tensor(0.2944, grad_fn=<NllLossBackward0>), tensor(0.9375))"
      ]
     },
     "execution_count": 273,
     "metadata": {},
     "output_type": "execute_result"
    }
   ],
   "source": [
    "loss_func(model(xb), yb), accuracy(model(xb), yb)"
   ]
  },
  {
   "cell_type": "code",
   "execution_count": 274,
   "id": "36c22760",
   "metadata": {},
   "outputs": [],
   "source": [
    "# Using Parameters and Optim"
   ]
  },
  {
   "cell_type": "code",
   "execution_count": 275,
   "id": "09c9f79b",
   "metadata": {},
   "outputs": [],
   "source": [
    "class Model(nn.Module):\n",
    "    def __init__(self, n_in, nh, n_out):\n",
    "        super().__init__()\n",
    "        self.l1 = nn.Linear(n_in, nh)\n",
    "        self.l2 = nn.Linear(nh, n_out)\n",
    "    \n",
    "    def __call__(self, x):\n",
    "        return self.l2(F.relu(self.l1(x)))"
   ]
  },
  {
   "cell_type": "code",
   "execution_count": 276,
   "id": "b179a939",
   "metadata": {},
   "outputs": [],
   "source": [
    "model = Model(m, nh, 10)"
   ]
  },
  {
   "cell_type": "code",
   "execution_count": 277,
   "id": "d73dd3e8",
   "metadata": {},
   "outputs": [
    {
     "name": "stdout",
     "output_type": "stream",
     "text": [
      "l1: Linear(in_features=784, out_features=50, bias=True)\n",
      "l2: Linear(in_features=50, out_features=10, bias=True)\n"
     ]
    }
   ],
   "source": [
    "for name, l in model.named_children():\n",
    "    print(f\"{name}: {l}\")"
   ]
  },
  {
   "cell_type": "code",
   "execution_count": 278,
   "id": "c5b31455",
   "metadata": {},
   "outputs": [],
   "source": [
    "def fit():\n",
    "    for epoch in range(epochs):\n",
    "        for i in range((n-1) // bs + 1):\n",
    "            start_i = i*bs\n",
    "            end_i = start_i + bs\n",
    "\n",
    "            xb = x_train[start_i:end_i]\n",
    "            yb = y_train[start_i:end_i]\n",
    "\n",
    "            loss = loss_func(model(xb), yb)\n",
    "\n",
    "            loss.backward()\n",
    "\n",
    "            with torch.no_grad():\n",
    "                for p in model.parameters():\n",
    "                    p -= p.grad * lr\n",
    "                    model.zero_grad()"
   ]
  },
  {
   "cell_type": "code",
   "execution_count": 279,
   "id": "f01a99af",
   "metadata": {},
   "outputs": [],
   "source": [
    "fit()"
   ]
  },
  {
   "cell_type": "code",
   "execution_count": 280,
   "id": "f0ff160f",
   "metadata": {},
   "outputs": [
    {
     "data": {
      "text/plain": [
       "(tensor(0.0247, grad_fn=<NllLossBackward0>), tensor(1.))"
      ]
     },
     "execution_count": 280,
     "metadata": {},
     "output_type": "execute_result"
    }
   ],
   "source": [
    "loss_func(model(xb), yb), accuracy(model(xb), yb)"
   ]
  },
  {
   "cell_type": "code",
   "execution_count": 281,
   "id": "32dd9138",
   "metadata": {},
   "outputs": [],
   "source": [
    "# Creating parameters function"
   ]
  },
  {
   "cell_type": "code",
   "execution_count": 282,
   "id": "cb701397",
   "metadata": {},
   "outputs": [],
   "source": [
    "class DummyModule():\n",
    "    def __init__(self, n_in, nh, n_out):\n",
    "        self._modules = {}\n",
    "        self.l1 = nn.Linear(n_in, nh)\n",
    "        self.l2 = nn.Linear(nh, n_out)\n",
    "        \n",
    "    def __setattr__(self, k, v):\n",
    "        if not k.startswith(\"_\"):\n",
    "            self._modules[k] = v\n",
    "        super().__setattr__(k, v)\n",
    "            \n",
    "    def __repr__(self):\n",
    "        return f'{self._modules}'\n",
    "    \n",
    "    \n",
    "    def parameters(self):\n",
    "        for l in self._modules.values():\n",
    "            for p in l.parameters():\n",
    "                yield p"
   ]
  },
  {
   "cell_type": "code",
   "execution_count": 283,
   "id": "c6086f5b",
   "metadata": {},
   "outputs": [],
   "source": [
    "md1 = DummyModule(m, nh, 10)"
   ]
  },
  {
   "cell_type": "code",
   "execution_count": 284,
   "id": "d3ea42c5",
   "metadata": {},
   "outputs": [],
   "source": [
    "# Using PyTorch"
   ]
  },
  {
   "cell_type": "code",
   "execution_count": 285,
   "id": "a298281c",
   "metadata": {},
   "outputs": [],
   "source": [
    "class Model(nn.Module):\n",
    "    def __init__(self, n_in, nh, n_out):\n",
    "        super().__init__()\n",
    "        self.l1 = nn.Linear(n_in, nh)\n",
    "        self.l2 = nn.Linear(nh, n_out)\n",
    "        \n",
    "    def __call__(self, x):\n",
    "        return self.l2(F.relu(self.l1(x)))"
   ]
  },
  {
   "cell_type": "code",
   "execution_count": 286,
   "id": "24ad8295",
   "metadata": {},
   "outputs": [],
   "source": [
    "model = Model(m, nh, 10)"
   ]
  },
  {
   "cell_type": "code",
   "execution_count": 287,
   "id": "ef0168d7",
   "metadata": {},
   "outputs": [
    {
     "name": "stdout",
     "output_type": "stream",
     "text": [
      "l1 : Linear(in_features=784, out_features=50, bias=True)\n",
      "l2 : Linear(in_features=50, out_features=10, bias=True)\n"
     ]
    }
   ],
   "source": [
    "for name, l in model.named_children():\n",
    "    print(f\"{name} : {l}\")"
   ]
  },
  {
   "cell_type": "code",
   "execution_count": 288,
   "id": "b1c2eaf0",
   "metadata": {},
   "outputs": [
    {
     "data": {
      "text/plain": [
       "Model(\n",
       "  (l1): Linear(in_features=784, out_features=50, bias=True)\n",
       "  (l2): Linear(in_features=50, out_features=10, bias=True)\n",
       ")"
      ]
     },
     "execution_count": 288,
     "metadata": {},
     "output_type": "execute_result"
    }
   ],
   "source": [
    "model"
   ]
  },
  {
   "cell_type": "code",
   "execution_count": 289,
   "id": "16bca5e4",
   "metadata": {},
   "outputs": [
    {
     "data": {
      "text/plain": [
       "Linear(in_features=784, out_features=50, bias=True)"
      ]
     },
     "execution_count": 289,
     "metadata": {},
     "output_type": "execute_result"
    }
   ],
   "source": [
    "model.l1"
   ]
  },
  {
   "cell_type": "code",
   "execution_count": 290,
   "id": "dbc72418",
   "metadata": {},
   "outputs": [],
   "source": [
    "def fit():\n",
    "    for epoch in range(epochs):\n",
    "        for i in range((n-1) // bs + 1):\n",
    "            start_i = i*bs\n",
    "            end_i = start_i + bs\n",
    "\n",
    "            xb = x_train[start_i:end_i]\n",
    "            yb = y_train[start_i:end_i]\n",
    "\n",
    "            loss = loss_func(model(xb), yb)\n",
    "\n",
    "            loss.backward()\n",
    "\n",
    "            with torch.no_grad():\n",
    "                for p in model.parameters():\n",
    "                    p -= p.grad * lr\n",
    "                    model.zero_grad()"
   ]
  },
  {
   "cell_type": "code",
   "execution_count": 291,
   "id": "b540d1ee",
   "metadata": {},
   "outputs": [],
   "source": [
    "fit()"
   ]
  },
  {
   "cell_type": "code",
   "execution_count": 292,
   "id": "c95ca151",
   "metadata": {},
   "outputs": [
    {
     "data": {
      "text/plain": [
       "(tensor(0.0590, grad_fn=<NllLossBackward0>), tensor(1.))"
      ]
     },
     "execution_count": 292,
     "metadata": {},
     "output_type": "execute_result"
    }
   ],
   "source": [
    "loss_func(model(xb), yb), accuracy(model(xb), yb)"
   ]
  },
  {
   "cell_type": "code",
   "execution_count": 293,
   "id": "2b38f433",
   "metadata": {},
   "outputs": [],
   "source": [
    "# Creating Layers"
   ]
  },
  {
   "cell_type": "code",
   "execution_count": 294,
   "id": "f6743c9a",
   "metadata": {},
   "outputs": [],
   "source": [
    "layers = [nn.Linear(m, nh), nn.ReLU(), nn.Linear(nh, 10)]"
   ]
  },
  {
   "cell_type": "code",
   "execution_count": 295,
   "id": "7fc5eec6",
   "metadata": {},
   "outputs": [],
   "source": [
    "class Model(nn.Module):\n",
    "    def __init__(self, layers):\n",
    "        super().__init__()\n",
    "        self.layers = layers\n",
    "        for i,l in enumerate(self.layers):\n",
    "            self.add_module(f'layer_{i}', l)\n",
    "            \n",
    "    def __call__(self, x):\n",
    "        for l in self.layers:\n",
    "            x = l(x)\n",
    "        return x"
   ]
  },
  {
   "cell_type": "code",
   "execution_count": 296,
   "id": "3418266d",
   "metadata": {},
   "outputs": [],
   "source": [
    "model = Model(layers)"
   ]
  },
  {
   "cell_type": "code",
   "execution_count": 297,
   "id": "744f113e",
   "metadata": {},
   "outputs": [
    {
     "data": {
      "text/plain": [
       "Model(\n",
       "  (layer_0): Linear(in_features=784, out_features=50, bias=True)\n",
       "  (layer_1): ReLU()\n",
       "  (layer_2): Linear(in_features=50, out_features=10, bias=True)\n",
       ")"
      ]
     },
     "execution_count": 297,
     "metadata": {},
     "output_type": "execute_result"
    }
   ],
   "source": [
    "model"
   ]
  },
  {
   "cell_type": "code",
   "execution_count": 298,
   "id": "def73de9",
   "metadata": {},
   "outputs": [],
   "source": [
    "# Using nn.ModuleList and creating our own Sequential Class"
   ]
  },
  {
   "cell_type": "code",
   "execution_count": 299,
   "id": "2022d282",
   "metadata": {},
   "outputs": [],
   "source": [
    "class SequentialModel(nn.Module):\n",
    "    def __init__(self, layers):\n",
    "        super().__init__()\n",
    "        self.layers = nn.ModuleList(layers)\n",
    "        \n",
    "    def __call__(self, x):\n",
    "        for l in self.layers:\n",
    "            x = l(x)\n",
    "        return x"
   ]
  },
  {
   "cell_type": "code",
   "execution_count": 300,
   "id": "10ca85c1",
   "metadata": {},
   "outputs": [],
   "source": [
    "model = SequentialModel(layers)"
   ]
  },
  {
   "cell_type": "code",
   "execution_count": 301,
   "id": "eb7de288",
   "metadata": {},
   "outputs": [
    {
     "data": {
      "text/plain": [
       "SequentialModel(\n",
       "  (layers): ModuleList(\n",
       "    (0): Linear(in_features=784, out_features=50, bias=True)\n",
       "    (1): ReLU()\n",
       "    (2): Linear(in_features=50, out_features=10, bias=True)\n",
       "  )\n",
       ")"
      ]
     },
     "execution_count": 301,
     "metadata": {},
     "output_type": "execute_result"
    }
   ],
   "source": [
    "model"
   ]
  },
  {
   "cell_type": "code",
   "execution_count": 302,
   "id": "5908576f",
   "metadata": {},
   "outputs": [],
   "source": [
    "fit()"
   ]
  },
  {
   "cell_type": "code",
   "execution_count": 303,
   "id": "05b2fe70",
   "metadata": {},
   "outputs": [
    {
     "data": {
      "text/plain": [
       "(tensor(0.0440, grad_fn=<NllLossBackward0>), tensor(1.))"
      ]
     },
     "execution_count": 303,
     "metadata": {},
     "output_type": "execute_result"
    }
   ],
   "source": [
    "loss_func(model(xb), yb), accuracy(model(xb), yb)"
   ]
  },
  {
   "cell_type": "code",
   "execution_count": 304,
   "id": "236ad99b",
   "metadata": {},
   "outputs": [],
   "source": [
    "# Using PyTorch's nn.Sequential"
   ]
  },
  {
   "cell_type": "code",
   "execution_count": 305,
   "id": "2b5cd61c",
   "metadata": {},
   "outputs": [],
   "source": [
    "model = nn.Sequential(nn.Linear(m, nh), nn.ReLU(), nn.Linear(nh, 10))"
   ]
  },
  {
   "cell_type": "code",
   "execution_count": 306,
   "id": "ad42ef50",
   "metadata": {},
   "outputs": [],
   "source": [
    "fit()"
   ]
  },
  {
   "cell_type": "code",
   "execution_count": 307,
   "id": "0d939876",
   "metadata": {},
   "outputs": [
    {
     "data": {
      "text/plain": [
       "(tensor(0.0746, grad_fn=<NllLossBackward0>), tensor(1.))"
      ]
     },
     "execution_count": 307,
     "metadata": {},
     "output_type": "execute_result"
    }
   ],
   "source": [
    "loss_func(model(xb), yb), accuracy(model(xb), yb)"
   ]
  },
  {
   "cell_type": "code",
   "execution_count": 308,
   "id": "d9dd0e86",
   "metadata": {},
   "outputs": [
    {
     "data": {
      "text/plain": [
       "Sequential(\n",
       "  (0): Linear(in_features=784, out_features=50, bias=True)\n",
       "  (1): ReLU()\n",
       "  (2): Linear(in_features=50, out_features=10, bias=True)\n",
       ")"
      ]
     },
     "execution_count": 308,
     "metadata": {},
     "output_type": "execute_result"
    }
   ],
   "source": [
    "model"
   ]
  },
  {
   "cell_type": "code",
   "execution_count": 309,
   "id": "8a7d9939",
   "metadata": {},
   "outputs": [],
   "source": [
    "### Optimizers "
   ]
  },
  {
   "cell_type": "code",
   "execution_count": 310,
   "id": "f82d7096",
   "metadata": {},
   "outputs": [],
   "source": [
    "class Optimizer():\n",
    "    def __init__(self, params, lr = 0.5):\n",
    "        self.params, self.lr = list(params), lr\n",
    "        \n",
    "    def step(self):\n",
    "        with torch.no_grad():\n",
    "            for p in self.params:\n",
    "                p -= p.grad * self.lr\n",
    "                \n",
    "    def zero_grad(self):\n",
    "        for p in self.params:\n",
    "            p.grad.data.zero_()"
   ]
  },
  {
   "cell_type": "code",
   "execution_count": 311,
   "id": "18777656",
   "metadata": {},
   "outputs": [],
   "source": [
    "model = nn.Sequential(nn.Linear(m, nh), nn.ReLU(), nn.Linear(nh, 10))"
   ]
  },
  {
   "cell_type": "code",
   "execution_count": 312,
   "id": "9f26802c",
   "metadata": {},
   "outputs": [],
   "source": [
    "opt = Optimizer(model.parameters())"
   ]
  },
  {
   "cell_type": "code",
   "execution_count": 313,
   "id": "174ed6a6",
   "metadata": {},
   "outputs": [],
   "source": [
    "for epoch in range(epochs):\n",
    "        for i in range((n-1) // bs + 1):\n",
    "            start_i = i*bs\n",
    "            end_i = start_i + bs\n",
    "\n",
    "            xb = x_train[start_i:end_i]\n",
    "            yb = y_train[start_i:end_i]\n",
    "\n",
    "            loss = loss_func(model(xb), yb)\n",
    "\n",
    "            loss.backward()\n",
    "            opt.step()\n",
    "            opt.zero_grad()"
   ]
  },
  {
   "cell_type": "code",
   "execution_count": 314,
   "id": "5c3b725b",
   "metadata": {},
   "outputs": [
    {
     "data": {
      "text/plain": [
       "(tensor(0.3888, grad_fn=<NllLossBackward0>), tensor(0.8750))"
      ]
     },
     "execution_count": 314,
     "metadata": {},
     "output_type": "execute_result"
    }
   ],
   "source": [
    "loss, acc = loss_func(model(xb), yb), accuracy(model(xb), yb)\n",
    "loss, acc"
   ]
  },
  {
   "cell_type": "code",
   "execution_count": 315,
   "id": "90253c89",
   "metadata": {},
   "outputs": [],
   "source": [
    "# PyTorch's Optimizer"
   ]
  },
  {
   "cell_type": "code",
   "execution_count": 316,
   "id": "43434ba0",
   "metadata": {},
   "outputs": [],
   "source": [
    "from torch import optim"
   ]
  },
  {
   "cell_type": "code",
   "execution_count": 317,
   "id": "a35461eb",
   "metadata": {},
   "outputs": [],
   "source": [
    "def get_model():\n",
    "    model = nn.Sequential(nn.Linear(m, nh), nn.ReLU(), nn.Linear(nh, 10))\n",
    "    return model, optim.SGD(model.parameters(), lr = lr)"
   ]
  },
  {
   "cell_type": "code",
   "execution_count": 318,
   "id": "eb244191",
   "metadata": {},
   "outputs": [
    {
     "data": {
      "text/plain": [
       "tensor(2.2528, grad_fn=<NllLossBackward0>)"
      ]
     },
     "execution_count": 318,
     "metadata": {},
     "output_type": "execute_result"
    }
   ],
   "source": [
    "model, opt = get_model()\n",
    "loss_func(model(xb), yb)"
   ]
  },
  {
   "cell_type": "code",
   "execution_count": 319,
   "id": "cc4e3aa5",
   "metadata": {},
   "outputs": [],
   "source": [
    "for epoch in range(epochs):\n",
    "        for i in range((n-1) // bs + 1):\n",
    "            start_i = i*bs\n",
    "            end_i = start_i + bs\n",
    "\n",
    "            xb = x_train[start_i:end_i]\n",
    "            yb = y_train[start_i:end_i]\n",
    "\n",
    "            loss = loss_func(model(xb), yb)\n",
    "\n",
    "            loss.backward()\n",
    "            opt.step()\n",
    "            opt.zero_grad()"
   ]
  },
  {
   "cell_type": "code",
   "execution_count": 320,
   "id": "6ab161ef",
   "metadata": {},
   "outputs": [
    {
     "data": {
      "text/plain": [
       "(tensor(0.4054, grad_fn=<NllLossBackward0>), tensor(0.8750))"
      ]
     },
     "execution_count": 320,
     "metadata": {},
     "output_type": "execute_result"
    }
   ],
   "source": [
    "loss, acc = loss_func(model(xb), yb), accuracy(model(xb), yb)\n",
    "loss, acc"
   ]
  },
  {
   "cell_type": "code",
   "execution_count": null,
   "id": "5e8331c8",
   "metadata": {},
   "outputs": [],
   "source": []
  },
  {
   "cell_type": "code",
   "execution_count": 321,
   "id": "3cd160c9",
   "metadata": {},
   "outputs": [],
   "source": [
    "# Dataset and DataLoader"
   ]
  },
  {
   "cell_type": "code",
   "execution_count": 322,
   "id": "6ae14fa0",
   "metadata": {},
   "outputs": [],
   "source": [
    "# Dataset"
   ]
  },
  {
   "cell_type": "code",
   "execution_count": 323,
   "id": "329986d8",
   "metadata": {},
   "outputs": [],
   "source": [
    "class Dataset():\n",
    "    def __init__(self, x, y):\n",
    "        self.x, self.y = x, y\n",
    "        \n",
    "    def __len__(self):\n",
    "        return len(self.x)\n",
    "    \n",
    "    def __getitem__(self, i):\n",
    "        return self.x[i], self.y[i]"
   ]
  },
  {
   "cell_type": "code",
   "execution_count": 324,
   "id": "509b8c1b",
   "metadata": {},
   "outputs": [],
   "source": [
    "train_ds, valid_ds = Dataset(x_train, y_train), Dataset(x_valid, y_valid)"
   ]
  },
  {
   "cell_type": "code",
   "execution_count": 325,
   "id": "231d1729",
   "metadata": {},
   "outputs": [],
   "source": [
    "model, opt = get_model()"
   ]
  },
  {
   "cell_type": "code",
   "execution_count": 326,
   "id": "3d191329",
   "metadata": {},
   "outputs": [],
   "source": [
    "for epoch in range(epochs):\n",
    "        for i in range((n-1) // bs + 1):\n",
    "            xb, yb = train_ds[i*bs : i*bs + bs]\n",
    "        \n",
    "            loss = loss_func(model(xb), yb)\n",
    "\n",
    "            loss.backward()\n",
    "            opt.step()\n",
    "            opt.zero_grad()"
   ]
  },
  {
   "cell_type": "code",
   "execution_count": 327,
   "id": "1360e18b",
   "metadata": {},
   "outputs": [
    {
     "data": {
      "text/plain": [
       "(tensor(0.3149, grad_fn=<NllLossBackward0>), tensor(0.8750))"
      ]
     },
     "execution_count": 327,
     "metadata": {},
     "output_type": "execute_result"
    }
   ],
   "source": [
    "loss, acc = loss_func(model(xb), yb), accuracy(model(xb), yb)\n",
    "loss, acc"
   ]
  },
  {
   "cell_type": "code",
   "execution_count": 328,
   "id": "5b636ac2",
   "metadata": {},
   "outputs": [],
   "source": [
    "# DataLoader"
   ]
  },
  {
   "cell_type": "code",
   "execution_count": 329,
   "id": "55061895",
   "metadata": {},
   "outputs": [],
   "source": [
    "class DataLoader():\n",
    "    def __init__(self, ds, bs):\n",
    "        self.ds = ds\n",
    "        self.bs = bs\n",
    "        \n",
    "    def __iter__(self):\n",
    "        for i in range(0, len(self.ds), self.bs):\n",
    "            yield self.ds[i:i + self.bs]"
   ]
  },
  {
   "cell_type": "code",
   "execution_count": 330,
   "id": "5d19f363",
   "metadata": {},
   "outputs": [],
   "source": [
    "train_dl = DataLoader(train_ds, bs)\n",
    "valid_dl = DataLoader(valid_ds, bs)"
   ]
  },
  {
   "cell_type": "code",
   "execution_count": 331,
   "id": "54452c0a",
   "metadata": {},
   "outputs": [],
   "source": [
    "xb, yb = next(iter(valid_dl))"
   ]
  },
  {
   "cell_type": "code",
   "execution_count": 332,
   "id": "511e3ba3",
   "metadata": {},
   "outputs": [
    {
     "data": {
      "text/plain": [
       "tensor(3)"
      ]
     },
     "execution_count": 332,
     "metadata": {},
     "output_type": "execute_result"
    },
    {
     "data": {
      "image/png": "[encoded data removed]",
      "text/plain": [
       "<Figure size 432x288 with 1 Axes>"
      ]
     },
     "metadata": {
      "needs_background": "light"
     },
     "output_type": "display_data"
    }
   ],
   "source": [
    "plt.imshow(xb[0].view(28,28), cmap='gray')\n",
    "yb[0]"
   ]
  },
  {
   "cell_type": "code",
   "execution_count": 333,
   "id": "620b4be5",
   "metadata": {},
   "outputs": [],
   "source": [
    "model, opt = get_model()"
   ]
  },
  {
   "cell_type": "code",
   "execution_count": 334,
   "id": "13b8f774",
   "metadata": {},
   "outputs": [],
   "source": [
    "def fit():\n",
    "    for epoch in range(epochs):\n",
    "        for xb,yb in train_dl:\n",
    "            pred = model(xb)\n",
    "            loss = loss_func(pred, yb)\n",
    "            \n",
    "            loss.backward()\n",
    "            opt.step()\n",
    "            opt.zero_grad()"
   ]
  },
  {
   "cell_type": "code",
   "execution_count": 335,
   "id": "7bb73183",
   "metadata": {},
   "outputs": [],
   "source": [
    "fit()"
   ]
  },
  {
   "cell_type": "code",
   "execution_count": 336,
   "id": "d3e2cad1",
   "metadata": {},
   "outputs": [
    {
     "data": {
      "text/plain": [
       "(tensor(0.3273, grad_fn=<NllLossBackward0>), tensor(0.8750))"
      ]
     },
     "execution_count": 336,
     "metadata": {},
     "output_type": "execute_result"
    }
   ],
   "source": [
    "loss, acc = loss_func(model(xb), yb), accuracy(model(xb), yb)\n",
    "loss, acc"
   ]
  },
  {
   "cell_type": "code",
   "execution_count": 337,
   "id": "4fa01fda",
   "metadata": {},
   "outputs": [],
   "source": [
    "# Random Sampling"
   ]
  },
  {
   "cell_type": "code",
   "execution_count": 338,
   "id": "73d8e101",
   "metadata": {},
   "outputs": [],
   "source": [
    "class Sampler():\n",
    "    def __init__(self, ds, bs, shuffle = False):\n",
    "        self.n, self.bs, self.shuffle = len(ds), bs, shuffle\n",
    "        \n",
    "    def __iter__(self):\n",
    "        self.idxs = torch.randperm(self.n) if self.shuffle else torch.arange(self.n)\n",
    "        \n",
    "        for i in range(0, self.n, self.bs):\n",
    "            yield self.idxs[i:i+self.bs]"
   ]
  },
  {
   "cell_type": "code",
   "execution_count": 339,
   "id": "e74434f3",
   "metadata": {},
   "outputs": [],
   "source": [
    "def collate(b):\n",
    "    xs, ys = zip(*b)\n",
    "    return torch.stack(xs),torch.stack(ys) \n",
    "    \n",
    "class DataLoader():\n",
    "    def __init__(self, ds, sampler, collate_fn = collate):\n",
    "        self.ds, self.sampler, self.collate_fn = ds, sampler, collate_fn\n",
    "        \n",
    "    def __iter__(self):\n",
    "        for s in self.sampler:\n",
    "            yield self.collate_fn([self.ds[i] for i in s])"
   ]
  },
  {
   "cell_type": "code",
   "execution_count": 340,
   "id": "1e04d51d",
   "metadata": {},
   "outputs": [],
   "source": [
    "train_samp = Sampler(train_ds, bs, shuffle = True)\n",
    "valid_samp = Sampler(valid_ds, bs, shuffle = False)"
   ]
  },
  {
   "cell_type": "code",
   "execution_count": 341,
   "id": "89e9d994",
   "metadata": {},
   "outputs": [],
   "source": [
    "train_dl = DataLoader(train_ds, sampler = train_samp, collate_fn = collate)\n",
    "valid_dl = DataLoader(valid_ds, sampler = valid_samp, collate_fn = collate)"
   ]
  },
  {
   "cell_type": "code",
   "execution_count": 342,
   "id": "86fb7634",
   "metadata": {},
   "outputs": [
    {
     "data": {
      "text/plain": [
       "tensor(3)"
      ]
     },
     "execution_count": 342,
     "metadata": {},
     "output_type": "execute_result"
    },
    {
     "data": {
      "image/png": "[encoded data removed]",
      "text/plain": [
       "<Figure size 432x288 with 1 Axes>"
      ]
     },
     "metadata": {
      "needs_background": "light"
     },
     "output_type": "display_data"
    }
   ],
   "source": [
    "xb, yb = next(iter(valid_dl))\n",
    "\n",
    "plt.imshow(xb[0].view(28,28), cmap='gray')\n",
    "yb[0]"
   ]
  },
  {
   "cell_type": "code",
   "execution_count": 343,
   "id": "1d6f8eb9",
   "metadata": {},
   "outputs": [
    {
     "data": {
      "text/plain": [
       "(tensor(0.2395, grad_fn=<NllLossBackward0>), tensor(0.9219))"
      ]
     },
     "execution_count": 343,
     "metadata": {},
     "output_type": "execute_result"
    }
   ],
   "source": [
    "model, opt = get_model()\n",
    "fit()\n",
    "\n",
    "loss, acc = loss_func(model(xb), yb), accuracy(model(xb), yb)\n",
    "loss, acc"
   ]
  },
  {
   "cell_type": "code",
   "execution_count": 344,
   "id": "c5256729",
   "metadata": {},
   "outputs": [],
   "source": [
    "# PyTorch's DataLoader"
   ]
  },
  {
   "cell_type": "code",
   "execution_count": 345,
   "id": "f26d761f",
   "metadata": {},
   "outputs": [],
   "source": [
    "from torch.utils.data import DataLoader, SequentialSampler, RandomSampler"
   ]
  },
  {
   "cell_type": "code",
   "execution_count": 346,
   "id": "dc7fe549",
   "metadata": {},
   "outputs": [],
   "source": [
    "train_dl = DataLoader(train_ds, bs, sampler = RandomSampler(train_ds), collate_fn = collate)\n",
    "valid_dl = DataLoader(valid_ds, bs, sampler = SequentialSampler(train_ds), collate_fn = collate)"
   ]
  },
  {
   "cell_type": "code",
   "execution_count": 347,
   "id": "eb705215",
   "metadata": {},
   "outputs": [
    {
     "data": {
      "text/plain": [
       "(tensor(0.7059, grad_fn=<NllLossBackward0>), tensor(0.8438))"
      ]
     },
     "execution_count": 347,
     "metadata": {},
     "output_type": "execute_result"
    }
   ],
   "source": [
    "model, opt = get_model()\n",
    "fit()\n",
    "\n",
    "loss, acc = loss_func(model(xb), yb), accuracy(model(xb), yb)\n",
    "loss, acc"
   ]
  },
  {
   "cell_type": "code",
   "execution_count": 348,
   "id": "c0b52891",
   "metadata": {},
   "outputs": [],
   "source": [
    "# PyTorch's Default"
   ]
  },
  {
   "cell_type": "code",
   "execution_count": 349,
   "id": "c05c9346",
   "metadata": {},
   "outputs": [],
   "source": [
    "train_dl = DataLoader(train_ds, bs, shuffle = True, drop_last = True)\n",
    "valid_dl = DataLoader(valid_ds, bs, shuffle = False)"
   ]
  },
  {
   "cell_type": "code",
   "execution_count": 350,
   "id": "f0c15073",
   "metadata": {},
   "outputs": [
    {
     "data": {
      "text/plain": [
       "(tensor(0.2174, grad_fn=<NllLossBackward0>), tensor(0.9219))"
      ]
     },
     "execution_count": 350,
     "metadata": {},
     "output_type": "execute_result"
    }
   ],
   "source": [
    "model, opt = get_model()\n",
    "fit()\n",
    "\n",
    "loss, acc = loss_func(model(xb), yb), accuracy(model(xb), yb)\n",
    "loss, acc"
   ]
  },
  {
   "cell_type": "code",
   "execution_count": 351,
   "id": "b3c2cd96",
   "metadata": {},
   "outputs": [],
   "source": [
    "# Validation"
   ]
  },
  {
   "cell_type": "code",
   "execution_count": 352,
   "id": "ccd1bfa5",
   "metadata": {},
   "outputs": [],
   "source": [
    "def fit(epochs, model, loss_func, opt, train_dl, valid_dl):\n",
    "    for epoch in range(epochs):\n",
    "        \n",
    "        model.train()\n",
    "        for xb, yb in train_dl:\n",
    "            pred = model(xb)\n",
    "            loss = loss_func(pred, yb)\n",
    "            \n",
    "            loss.backward()\n",
    "            opt.step()\n",
    "            opt.zero_grad()\n",
    "            \n",
    "            \n",
    "        model.eval()\n",
    "        with torch.no_grad():\n",
    "            tot_loss, tot_acc = 0. , 0.\n",
    "            for xb, yb in valid_dl:\n",
    "                pred = model(xb)\n",
    "                loss = loss_func(pred, yb)\n",
    "                tot_loss += loss\n",
    "                tot_acc  +=  accuracy(pred, yb)\n",
    "        nv = len(valid_dl)\n",
    "        print(epoch, tot_loss/nv, tot_acc/nv)\n",
    "        \n",
    "    return tot_loss/nv, tot_acc/nv"
   ]
  },
  {
   "cell_type": "code",
   "execution_count": 353,
   "id": "b0aba8fd",
   "metadata": {},
   "outputs": [],
   "source": [
    "def get_dls(train_ds, valid_ds, bs, **kwargs):\n",
    "    return(DataLoader(train_ds, batch_size = bs, shuffle = True, **kwargs),\n",
    "           DataLoader(valid_ds, batch_size = bs * 2, **kwargs))"
   ]
  },
  {
   "cell_type": "code",
   "execution_count": 354,
   "id": "1b6accc8",
   "metadata": {},
   "outputs": [
    {
     "name": "stdout",
     "output_type": "stream",
     "text": [
      "0 tensor(0.2097) tensor(0.9418)\n",
      "1 tensor(0.4177) tensor(0.8896)\n",
      "2 tensor(0.2112) tensor(0.9442)\n",
      "3 tensor(0.2047) tensor(0.9472)\n",
      "4 tensor(0.3823) tensor(0.9226)\n"
     ]
    }
   ],
   "source": [
    "train_dl, valid_dl = get_dls(train_ds, valid_ds, bs)\n",
    "model, opt = get_model()\n",
    "loss, acc = fit(5, model, loss_func, opt, train_dl, valid_dl)"
   ]
  },
  {
   "cell_type": "code",
   "execution_count": 355,
   "id": "853dc92b",
   "metadata": {},
   "outputs": [],
   "source": [
    "# DataBunch/Learner"
   ]
  },
  {
   "cell_type": "code",
   "execution_count": 356,
   "id": "6f9399d1",
   "metadata": {},
   "outputs": [],
   "source": [
    "x_train,y_train,x_valid,y_valid = get_data()\n",
    "train_ds,valid_ds = Dataset(x_train, y_train),Dataset(x_valid, y_valid)\n",
    "nh,bs = 50,64\n",
    "c = y_train.max().item()+1\n",
    "loss_func = F.cross_entropy"
   ]
  },
  {
   "cell_type": "code",
   "execution_count": 357,
   "id": "0f83a230",
   "metadata": {},
   "outputs": [],
   "source": [
    "class DataBunch():\n",
    "    def __init__(self, train_dl, valid_dl, c = None):\n",
    "        self.train_dl, self.valid_dl, self.c = train_dl, valid_dl, c\n",
    "        \n",
    "    @property\n",
    "    def train_ds(self):\n",
    "        return self.train_dl.dataset\n",
    "    \n",
    "    @property\n",
    "    def valid_ds(self):\n",
    "        return self.valid_dl.dataset"
   ]
  },
  {
   "cell_type": "code",
   "execution_count": 358,
   "id": "d0f9760e",
   "metadata": {},
   "outputs": [],
   "source": [
    "data = DataBunch(*get_dls(train_ds, valid_ds, bs), c)"
   ]
  },
  {
   "cell_type": "code",
   "execution_count": 359,
   "id": "cf4d9f19",
   "metadata": {},
   "outputs": [],
   "source": [
    "def get_model(data, lr=0.5, nh=50):\n",
    "    m = data.train_ds.x.shape[1]\n",
    "    model = nn.Sequential(nn.Linear(m,nh), nn.ReLU(), nn.Linear(nh, data.c))\n",
    "    return model, optim.SGD(model.parameters(), lr = lr)\n",
    "\n",
    "class Learner():\n",
    "    def __init__(self, model, opt, loss_func, data):\n",
    "        self.model, self.opt, self.loss_func, self.data = model, opt, loss_func, data"
   ]
  },
  {
   "cell_type": "code",
   "execution_count": 360,
   "id": "ff29c220",
   "metadata": {},
   "outputs": [],
   "source": [
    "learn = Learner(*get_model(data), loss_func, data)"
   ]
  },
  {
   "cell_type": "code",
   "execution_count": 361,
   "id": "1a754f73",
   "metadata": {},
   "outputs": [],
   "source": [
    "def fit(epochs, learn):\n",
    "    for epoch in range(epochs):\n",
    "        \n",
    "        learn.model.train()\n",
    "        for xb, yb in learn.data.train_dl:\n",
    "            pred = learn.model(xb)\n",
    "            loss = learn.loss_func(pred, yb)\n",
    "            \n",
    "            loss.backward()\n",
    "            learn.opt.step()\n",
    "            learn.opt.zero_grad()\n",
    "            \n",
    "            \n",
    "        learn.model.eval()\n",
    "        with torch.no_grad():\n",
    "            tot_loss, tot_acc = 0. , 0.\n",
    "            for xb, yb in learn.data.valid_dl:\n",
    "                pred = learn.model(xb)\n",
    "                loss = learn.loss_func(pred, yb)\n",
    "                tot_loss += loss\n",
    "                tot_acc  +=  accuracy(pred, yb)\n",
    "        nv = len(learn.data.valid_dl)\n",
    "        print(epoch, tot_loss/nv, tot_acc/nv)\n",
    "        \n",
    "    return tot_loss/nv, tot_acc/nv"
   ]
  },
  {
   "cell_type": "code",
   "execution_count": 362,
   "id": "c2987103",
   "metadata": {},
   "outputs": [
    {
     "name": "stdout",
     "output_type": "stream",
     "text": [
      "0 tensor(0.1958) tensor(0.9447)\n"
     ]
    }
   ],
   "source": [
    "loss, acc = fit(1, learn)"
   ]
  },
  {
   "cell_type": "code",
   "execution_count": 363,
   "id": "cc5a5be9",
   "metadata": {},
   "outputs": [],
   "source": [
    "## Adding Callbacks "
   ]
  },
  {
   "cell_type": "code",
   "execution_count": 369,
   "id": "801b5daf",
   "metadata": {},
   "outputs": [],
   "source": [
    "class Callback():\n",
    "    \n",
    "    def begin_fit(self, learn):\n",
    "        self.learn = learn\n",
    "        return True\n",
    "    \n",
    "    def after_fit(self):\n",
    "        return True\n",
    "    \n",
    "    def begin_epoch(self, epoch):\n",
    "        self.epoch = epoch\n",
    "        return True\n",
    "    \n",
    "    def begin_validate(self):\n",
    "        return True\n",
    "    \n",
    "    def after_epoch(self):\n",
    "        return True\n",
    "    \n",
    "    def begin_batch(self, xb, yb):\n",
    "        self.xb, self.yb = xb, yb\n",
    "        return True\n",
    "    \n",
    "    def after_loss(self, loss):\n",
    "        self.loss = loss\n",
    "        return True\n",
    "    \n",
    "    def after_backward(self):\n",
    "        return True\n",
    "    \n",
    "    def after_step(self):\n",
    "        return True\n",
    "    "
   ]
  },
  {
   "cell_type": "code",
   "execution_count": 374,
   "id": "b4a352e8",
   "metadata": {},
   "outputs": [],
   "source": [
    "class CallbackHandler():\n",
    "    \n",
    "    def __init__(self, cbs = None):\n",
    "        self.cbs = cbs if cbs else []\n",
    "        \n",
    "    def begin_fit(self, learn):\n",
    "        self.learn, self.in_train = learn, True\n",
    "        learn.stop = False\n",
    "        res = True\n",
    "        for cb in self.cbs:\n",
    "            res = res and cb.begin_fit(learn)\n",
    "        \n",
    "        return res\n",
    "    \n",
    "    def after_fit(self):\n",
    "        res = not self.in_train\n",
    "        for cb in self.cbs:\n",
    "            res = res and cb.after_fit()\n",
    "        \n",
    "        return res\n",
    "    \n",
    "    def begin_epoch(self, epoch):\n",
    "        self.learn.model.train()\n",
    "        self.in_train = True\n",
    "        res = True\n",
    "        for cb in self.cbs:\n",
    "            res = res and cb.begin_epoch(epoch)\n",
    "        \n",
    "        return res\n",
    "    \n",
    "    def begin_validate(self):\n",
    "        self.learn.model.eval()\n",
    "        self.in_train = False\n",
    "        res = True\n",
    "        for cb in self.cbs:\n",
    "            res = res and cb.begin_validate()\n",
    "        \n",
    "        return res\n",
    "    \n",
    "    def after_epoch(self):\n",
    "        res = True\n",
    "        for cb in self.cbs:\n",
    "            res = res and cb.after_epoch()\n",
    "        \n",
    "        return res\n",
    "    \n",
    "    def begin_batch(self, xb, yb):\n",
    "        res = True\n",
    "        for cb in self.cbs:\n",
    "            res = res and cb.begin_batch(xb, yb)\n",
    "        \n",
    "        return res\n",
    "    \n",
    "    def after_loss(self, loss):\n",
    "        res = self.in_train\n",
    "        for cb in self.cbs:\n",
    "            res = res and cb.after_loss(loss)\n",
    "        \n",
    "        return res\n",
    "    \n",
    "    def after_backward(self):\n",
    "        res = True\n",
    "        for cb in self.cbs:\n",
    "            res = res and cb.after_backward()\n",
    "        \n",
    "        return res\n",
    "    \n",
    "    def after_step(self):\n",
    "        res = True\n",
    "        for cb in self.cbs:\n",
    "            res = res and cb.after_step()\n",
    "        \n",
    "        return res\n",
    "    \n",
    "    def do_stop(self):     \n",
    "        try:\n",
    "            return self.learn.stop\n",
    "        finally:\n",
    "            self.learn.stop = False"
   ]
  },
  {
   "cell_type": "code",
   "execution_count": 375,
   "id": "51ab608a",
   "metadata": {},
   "outputs": [],
   "source": [
    "class TestCallback(Callback):\n",
    "    def begin_fit(self, learn):\n",
    "        super().begin_fit(learn)\n",
    "        self.n_iters = 0\n",
    "        return True\n",
    "    \n",
    "    def after_step(self):\n",
    "        self.n_iters += 1\n",
    "        print(self.n_iters)\n",
    "        \n",
    "        if(self.n_iters >= 10):\n",
    "            self.learn.stop = True\n",
    "            \n",
    "        return True"
   ]
  },
  {
   "cell_type": "code",
   "execution_count": 376,
   "id": "62fd9ec1",
   "metadata": {},
   "outputs": [],
   "source": [
    "# Refactoring fit and adding callbacks to it\n",
    "\n",
    "def one_batch(xb, yb, cb):\n",
    "    if not cb.begin_batch(xb, yb):\n",
    "        return\n",
    "    \n",
    "    loss = cb.learn.loss_func(cb.learn.model(xb), yb)\n",
    "    \n",
    "    if not cb.after_loss(loss):\n",
    "        return\n",
    "    \n",
    "    loss.backward()\n",
    "    \n",
    "    if(cb.after_backward()):\n",
    "        cb.learn.opt.step()\n",
    "        \n",
    "    if(cb.after_step()):\n",
    "        cb.learn.opt.zero_grad()\n",
    "\n",
    "def all_batches(dl, cb):\n",
    "   \n",
    "    for xb,yb in dl:\n",
    "        one_batch(xb, yb, cb)\n",
    "        \n",
    "        if(cb.do_stop()):\n",
    "            return \n",
    "    \n",
    "def fit(epochs, learn, cb):\n",
    "    \n",
    "    if not cb.begin_fit(learn):\n",
    "        return\n",
    "    \n",
    "    for epoch in range(epochs):\n",
    "        \n",
    "        if not cb.begin_epoch(epoch):\n",
    "            continue\n",
    "        \n",
    "        all_batches(learn.data.train_dl, cb)\n",
    "        \n",
    "        if (cb.begin_validate()):\n",
    "            with torch.no_grad():\n",
    "                all_batches(learn.data.valid_dl, cb)\n",
    "            \n",
    "        if(cb.do_stop() or not cb.after_epoch()):\n",
    "            break\n",
    "            \n",
    "        cb.after_fit()\n",
    "            \n",
    "        "
   ]
  },
  {
   "cell_type": "code",
   "execution_count": 377,
   "id": "d4c2a303",
   "metadata": {},
   "outputs": [
    {
     "name": "stdout",
     "output_type": "stream",
     "text": [
      "1\n",
      "2\n",
      "3\n",
      "4\n",
      "5\n",
      "6\n",
      "7\n",
      "8\n",
      "9\n",
      "10\n"
     ]
    }
   ],
   "source": [
    "fit(1, learn, cb = CallbackHandler([TestCallback()]))"
   ]
  },
  {
   "cell_type": "code",
   "execution_count": 379,
   "id": "a051dec8",
   "metadata": {},
   "outputs": [],
   "source": [
    "# Creating a Runner (Very Hazy)"
   ]
  },
  {
   "cell_type": "code",
   "execution_count": 385,
   "id": "972ada9e",
   "metadata": {},
   "outputs": [],
   "source": [
    "import re\n",
    "\n",
    "_camel_re1 = re.compile('(.)([A-Z][a-z]+)')\n",
    "_camel_re2 = re.compile('([a-z0-9])([A-Z])')\n",
    "\n",
    "def camel2snake(name):\n",
    "    s1 = re.sub(_camel_re1, r'\\1_\\2', name)\n",
    "    return re.sub(_camel_re2, r'\\1_\\2', s1).lower()\n",
    "\n",
    "class Callback():\n",
    "    _order=0\n",
    "    \n",
    "    def set_runner(self, run): \n",
    "        self.run=run\n",
    "        \n",
    "    def __getattr__(self, k): \n",
    "        return getattr(self.run, k)\n",
    "    \n",
    "    @property\n",
    "    def name(self):\n",
    "        name = re.sub(r'Callback$', '', self.__class__.__name__)\n",
    "        return camel2snake(name or 'callback')\n",
    "     "
   ]
  },
  {
   "cell_type": "code",
   "execution_count": 386,
   "id": "11facdcd",
   "metadata": {},
   "outputs": [],
   "source": [
    "from typing import *\n",
    "\n",
    "def listify(o):\n",
    "    if o is None:\n",
    "        return []\n",
    "    \n",
    "    if isinstance(o, list):\n",
    "        return o\n",
    "    \n",
    "    if isinstance(o, str):\n",
    "        return [o]\n",
    "    \n",
    "    if isinstance(o, Iterable):\n",
    "        return list(o)\n",
    "    \n",
    "    return [o]"
   ]
  },
  {
   "cell_type": "code",
   "execution_count": 387,
   "id": "6c0121ff",
   "metadata": {},
   "outputs": [],
   "source": [
    "class Runner():\n",
    "    def __init__(self, cbs = None, cb_funcs = None):\n",
    "        cbs = listify(cbs)\n",
    "        \n",
    "        for cbf in listify(cb_funcs):\n",
    "            cb = cbf()\n",
    "            setattr(self, cb.name, cb)\n",
    "            cbs.append(cb)\n",
    "        \n",
    "        self.stop, self.cbs = False, [TrainEvalCallback()] + cbs\n",
    "        \n",
    "    @property\n",
    "    def opt(self):\n",
    "        return self.learn.opt\n",
    "    \n",
    "    @property\n",
    "    def model(self):\n",
    "        return self.learn.model\n",
    "    \n",
    "    @property\n",
    "    def loss_func(self):\n",
    "        return self.learn.loss_func\n",
    "    \n",
    "    @property\n",
    "    def data(self):\n",
    "        return self.learn.data\n",
    "    \n",
    "    \n",
    "    def one_batch(self, xb, yb):\n",
    "        self.xb, self.yb = xb, yb\n",
    "        \n",
    "        if self('begin_batch'): \n",
    "            return\n",
    "        \n",
    "        self.pred = self.model(self.xb)\n",
    "        \n",
    "        if self('after_pred'): \n",
    "            return\n",
    "        \n",
    "        self.loss = self.loss_func(self.pred, self.yb)\n",
    "        \n",
    "        if self('after_loss') or not self.in_train: \n",
    "            return\n",
    "        \n",
    "        self.loss.backward()\n",
    "        \n",
    "        if self('after_backward'):\n",
    "            return\n",
    "        \n",
    "        self.opt.step()\n",
    "        \n",
    "        if self('after_step'): \n",
    "            return\n",
    "        \n",
    "        self.opt.zero_grad()\n",
    "\n",
    "    \n",
    "    \n",
    "    def all_batches(self, dl):\n",
    "        self.iters = len(dl)\n",
    "        \n",
    "        for xb,yb in dl:\n",
    "            if self.stop: \n",
    "                break\n",
    "                \n",
    "            self.one_batch(xb, yb)\n",
    "            self('after_batch')\n",
    "            \n",
    "        self.stop = False\n",
    "        \n",
    "        \n",
    "    def fit(self, epochs, learn):\n",
    "        self.epochs,self.learn = epochs,learn\n",
    "\n",
    "        try:\n",
    "            for cb in self.cbs: \n",
    "                cb.set_runner(self)\n",
    "                \n",
    "            if self('begin_fit'): \n",
    "                return\n",
    "            \n",
    "            for epoch in range(epochs):\n",
    "                self.epoch = epoch\n",
    "                if not self('begin_epoch'): \n",
    "                    self.all_batches(self.data.train_dl)\n",
    "\n",
    "                with torch.no_grad(): \n",
    "                    if not self('begin_validate'): \n",
    "                        self.all_batches(self.data.valid_dl)\n",
    "                        \n",
    "                if self('after_epoch'):\n",
    "                    break\n",
    "            \n",
    "        finally:\n",
    "            self('after_fit')\n",
    "            self.learn = None\n",
    "\n",
    "            \n",
    "    def __call__(self, cb_name):\n",
    "        for cb in sorted(self.cbs, key=lambda x: x._order):\n",
    "            f = getattr(cb, cb_name, None)\n",
    "            if f and f(): \n",
    "                return True\n",
    "            \n",
    "        return False"
   ]
  },
  {
   "cell_type": "code",
   "execution_count": 388,
   "id": "6c93c19b",
   "metadata": {},
   "outputs": [],
   "source": [
    "class TrainEvalCallback(Callback):\n",
    "    \n",
    "    def begin_fit(self):\n",
    "        self.run.n_epochs=0.\n",
    "        self.run.n_iter=0\n",
    "    \n",
    "    def after_batch(self):\n",
    "        if not self.in_train: \n",
    "            return\n",
    "        \n",
    "        self.run.n_epochs += 1./self.iters\n",
    "        self.run.n_iter   += 1\n",
    "        \n",
    "    def begin_epoch(self):\n",
    "        self.run.n_epochs=self.epoch\n",
    "        self.model.train()\n",
    "        self.run.in_train=True\n",
    "\n",
    "    def begin_validate(self):\n",
    "        self.model.eval()\n",
    "        self.run.in_train=False"
   ]
  },
  {
   "cell_type": "code",
   "execution_count": 390,
   "id": "67c1a9f6",
   "metadata": {},
   "outputs": [],
   "source": [
    "class TestCallback(Callback):\n",
    "    \n",
    "    def after_step(self):\n",
    "        if self.train_eval.n_iters>=10: \n",
    "            return True"
   ]
  },
  {
   "cell_type": "code",
   "execution_count": 391,
   "id": "46606def",
   "metadata": {},
   "outputs": [],
   "source": [
    "# Why self.train_eval.n_iters??"
   ]
  },
  {
   "cell_type": "code",
   "execution_count": 392,
   "id": "fb00437f",
   "metadata": {},
   "outputs": [
    {
     "data": {
      "text/plain": [
       "'train_eval_callback'"
      ]
     },
     "execution_count": 392,
     "metadata": {},
     "output_type": "execute_result"
    }
   ],
   "source": [
    "cbname = 'TrainEvalCallback'\n",
    "camel2snake(cbname)"
   ]
  },
  {
   "cell_type": "code",
   "execution_count": 393,
   "id": "0a8adb45",
   "metadata": {},
   "outputs": [
    {
     "data": {
      "text/plain": [
       "'train_eval'"
      ]
     },
     "execution_count": 393,
     "metadata": {},
     "output_type": "execute_result"
    }
   ],
   "source": [
    "TrainEvalCallback().name"
   ]
  },
  {
   "cell_type": "code",
   "execution_count": 395,
   "id": "943738b1",
   "metadata": {},
   "outputs": [],
   "source": [
    "class AvgStats():\n",
    "    def __init__(self, metrics, in_train): \n",
    "        self.metrics, self.in_train = listify(metrics), in_train\n",
    "    \n",
    "    def reset(self):\n",
    "        self.tot_loss, self.count = 0.,0\n",
    "        self.tot_mets = [0.] * len(self.metrics)\n",
    "        \n",
    "    @property\n",
    "    def all_stats(self): \n",
    "        return [self.tot_loss.item()] + self.tot_mets\n",
    "    \n",
    "    @property\n",
    "    def avg_stats(self): \n",
    "        return [o/self.count for o in self.all_stats]\n",
    "    \n",
    "    def __repr__(self):\n",
    "        if not self.count: \n",
    "            return \"\"\n",
    "        \n",
    "        return f\"{'train' if self.in_train else 'valid'}: {self.avg_stats}\"\n",
    "\n",
    "    def accumulate(self, run):\n",
    "        bn = run.xb.shape[0]\n",
    "        self.tot_loss += run.loss * bn\n",
    "        self.count += bn\n",
    "        for i,m in enumerate(self.metrics):\n",
    "            self.tot_mets[i] += m(run.pred, run.yb) * bn\n",
    "\n",
    "class AvgStatsCallback(Callback):\n",
    "    def __init__(self, metrics):\n",
    "        self.train_stats,self.valid_stats = AvgStats(metrics,True),AvgStats(metrics,False)\n",
    "        \n",
    "    def begin_epoch(self):\n",
    "        self.train_stats.reset()\n",
    "        self.valid_stats.reset()\n",
    "        \n",
    "    def after_loss(self):\n",
    "        stats = self.train_stats if self.in_train else self.valid_stats\n",
    "        \n",
    "        with torch.no_grad(): \n",
    "            stats.accumulate(self.run)\n",
    "    \n",
    "    def after_epoch(self):\n",
    "        print(self.train_stats)\n",
    "        print(self.valid_stats)"
   ]
  },
  {
   "cell_type": "code",
   "execution_count": 396,
   "id": "15382f98",
   "metadata": {},
   "outputs": [],
   "source": [
    "learn = Learner(*get_model(data), loss_func, data)"
   ]
  },
  {
   "cell_type": "code",
   "execution_count": 397,
   "id": "edc1669f",
   "metadata": {},
   "outputs": [],
   "source": [
    "stats = AvgStatsCallback([accuracy])\n",
    "run = Runner(cbs=stats)"
   ]
  },
  {
   "cell_type": "code",
   "execution_count": 398,
   "id": "b8fb4d7e",
   "metadata": {},
   "outputs": [
    {
     "name": "stdout",
     "output_type": "stream",
     "text": [
      "train: [0.3228669921875, tensor(0.9012)]\n",
      "valid: [0.17170430908203124, tensor(0.9488)]\n",
      "train: [0.14759888671875, tensor(0.9550)]\n",
      "valid: [0.11999556884765625, tensor(0.9671)]\n"
     ]
    }
   ],
   "source": [
    "run.fit(2, learn)"
   ]
  },
  {
   "cell_type": "code",
   "execution_count": 399,
   "id": "1e43deaa",
   "metadata": {},
   "outputs": [
    {
     "data": {
      "text/plain": [
       "(0.11999556884765625, tensor(0.9671))"
      ]
     },
     "execution_count": 399,
     "metadata": {},
     "output_type": "execute_result"
    }
   ],
   "source": [
    "loss, acc = stats.valid_stats.avg_stats\n",
    "loss, acc"
   ]
  },
  {
   "cell_type": "code",
   "execution_count": null,
   "id": "96e484d4",
   "metadata": {},
   "outputs": [],
   "source": []
  },
  {
   "cell_type": "code",
   "execution_count": 400,
   "id": "a18fdd7d",
   "metadata": {},
   "outputs": [],
   "source": [
    "from functools import partial"
   ]
  },
  {
   "cell_type": "code",
   "execution_count": 401,
   "id": "630dc97a",
   "metadata": {},
   "outputs": [],
   "source": [
    "acc_cbf = partial(AvgStatsCallback,accuracy)"
   ]
  },
  {
   "cell_type": "code",
   "execution_count": 402,
   "id": "c9e19fa5",
   "metadata": {},
   "outputs": [],
   "source": [
    "run = Runner(cb_funcs=acc_cbf)"
   ]
  },
  {
   "cell_type": "code",
   "execution_count": 403,
   "id": "caad09bf",
   "metadata": {},
   "outputs": [
    {
     "name": "stdout",
     "output_type": "stream",
     "text": [
      "train: [0.111993837890625, tensor(0.9647)]\n",
      "valid: [0.15203140869140624, tensor(0.9551)]\n"
     ]
    }
   ],
   "source": [
    "run.fit(1, learn)"
   ]
  },
  {
   "cell_type": "code",
   "execution_count": 404,
   "id": "85bcea82",
   "metadata": {},
   "outputs": [
    {
     "data": {
      "text/plain": [
       "[0.15203140869140624, tensor(0.9551)]"
      ]
     },
     "execution_count": 404,
     "metadata": {},
     "output_type": "execute_result"
    }
   ],
   "source": [
    "run.avg_stats.valid_stats.avg_stats"
   ]
  },
  {
   "cell_type": "code",
   "execution_count": null,
   "id": "f5993bd9",
   "metadata": {},
   "outputs": [],
   "source": []
  }
 ],
 "metadata": {
  "kernelspec": {
   "display_name": "Python 3 (ipykernel)",
   "language": "python",
   "name": "python3"
  },
  "language_info": {
   "codemirror_mode": {
    "name": "ipython",
    "version": 3
   },
   "file_extension": ".py",
   "mimetype": "text/x-python",
   "name": "python",
   "nbconvert_exporter": "python",
   "pygments_lexer": "ipython3",
   "version": "3.8.12"
  }
 },
 "nbformat": 4,
 "nbformat_minor": 5
}
