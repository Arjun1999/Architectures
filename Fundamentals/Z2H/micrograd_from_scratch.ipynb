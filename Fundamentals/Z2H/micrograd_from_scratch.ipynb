{
 "cells": [
  {
   "cell_type": "code",
   "execution_count": 138,
   "id": "a677856c",
   "metadata": {},
   "outputs": [],
   "source": [
    "### Creating a mini backprop engine from scratch"
   ]
  },
  {
   "cell_type": "code",
   "execution_count": 139,
   "id": "7ca1f0bd",
   "metadata": {},
   "outputs": [],
   "source": [
    "import math"
   ]
  },
  {
   "cell_type": "code",
   "execution_count": 241,
   "id": "172d0c11",
   "metadata": {},
   "outputs": [],
   "source": [
    "# Creating a Value object\n",
    "\n",
    "class Value:\n",
    "    \n",
    "    def __init__(self, data, _children=(), _op='', label=''):\n",
    "        self.data = data\n",
    "        self.grad = 0.0\n",
    "        self._backward = lambda : None\n",
    "        self._prev = set(_children)\n",
    "        self._op = _op\n",
    "        self.label = label\n",
    "        \n",
    "    def __repr__(self):\n",
    "        return f\"Value(data={self.data})\"\n",
    "    \n",
    "    def __neg__(self):\n",
    "        return -1 * self\n",
    "    \n",
    "    def __sub__(self, other):\n",
    "        return self + (-other)\n",
    "    \n",
    "    def __add__(self, other):\n",
    "        other = other if isinstance(other, Value) else Value(other)\n",
    "        out = Value(self.data + other.data, (self, other), '+')\n",
    "        \n",
    "        # Remeber to use \"+=\" to accumulate gradients to account for the use of the same node in different expressions\n",
    "        def _backward():\n",
    "            self.grad  += 1.0 * out.grad\n",
    "            other.grad += 1.0 * out.grad\n",
    "            \n",
    "        out._backward = _backward\n",
    "        return out\n",
    "    \n",
    "    def __radd__(self, other): # other + self\n",
    "        return self + other\n",
    "    \n",
    "    def __mul__(self, other):\n",
    "        other = other if isinstance(other, Value) else Value(other)\n",
    "        out = Value(self.data * other.data, (self, other), '*')\n",
    "        \n",
    "        def _backward():\n",
    "            self.grad  += other.data * out.grad\n",
    "            other.grad += self.data * out.grad\n",
    "            \n",
    "        out._backward = _backward\n",
    "        return out\n",
    "    \n",
    "    # Swaps the order of multiplication if the original is not possible\n",
    "    def __rmul__(self, other): # other * self\n",
    "        return self * other\n",
    "    \n",
    "    \n",
    "    def __pow__(self, other):\n",
    "        assert isinstance(other, (int, float)), \"only supporting int/float types for power\"\n",
    "        out = Value(self.data**other, (self, ), f\"**{other}\")\n",
    "        \n",
    "        def _backward():\n",
    "            self.grad += (other * (self.data**(other-1))) * out.grad\n",
    "        \n",
    "        out._backward = _backward\n",
    "        return out\n",
    "    \n",
    "    def __truediv__(self, other):\n",
    "        return self * (other**-1)\n",
    "    \n",
    "    def tanh(self):\n",
    "        x = self.data\n",
    "        t = (math.exp(2*x)-1) / (math.exp(2*x)+1) \n",
    "        out = Value(t, (self, ), 'tanh')\n",
    "        \n",
    "        def _backward():\n",
    "            self.grad  += (1 - t**2) * out.grad\n",
    "                        \n",
    "        out._backward = _backward\n",
    "        return out\n",
    "    \n",
    "    def backward(self):\n",
    "       \n",
    "        topo = []\n",
    "        visited = set()\n",
    "        def build_topo(v):\n",
    "            if v not in visited:\n",
    "                visited.add(v)\n",
    "                for child in v._prev:\n",
    "                    build_topo(child)\n",
    "\n",
    "                topo.append(v)\n",
    "\n",
    "                \n",
    "        build_topo(self)\n",
    "        self.grad = 1.0\n",
    "        \n",
    "        for node in reversed(topo):\n",
    "            node._backward()"
   ]
  },
  {
   "cell_type": "code",
   "execution_count": 242,
   "id": "2f4f3080",
   "metadata": {},
   "outputs": [],
   "source": [
    "# Visualizing the forward pass using Graphviz\n",
    "\n",
    "from graphviz import Digraph\n",
    "\n",
    "def trace(root):\n",
    "    nodes, edges = set(), set()\n",
    "    \n",
    "    def build(v):\n",
    "        if v not in nodes:\n",
    "            nodes.add(v)\n",
    "            for child in v._prev:\n",
    "                edges.add((child, v))\n",
    "                build(child)\n",
    "                \n",
    "    build(root)\n",
    "    return nodes, edges\n",
    "\n",
    "def draw_dot(root):\n",
    "    dot = Digraph(format='svg', graph_attr={'rankdir' : 'LR'}) # LR = left to right\n",
    "    \n",
    "    nodes, edges = trace(root)\n",
    "    for n in nodes:\n",
    "        uid = str(id(n))\n",
    "        \n",
    "        # for any value in graph, create a rectangular ('record') node for it\n",
    "        dot.node(name=uid, label = \"{%s | data %.4f | grad %.4f}\" % (n.label, n.data, n.grad), shape='record')\n",
    "        \n",
    "        if n._op:\n",
    "            # if this value is a result of an operation, create an op node for it\n",
    "            dot.node(name = uid + n._op, label = n._op)\n",
    "            # and connect this node to it\n",
    "            dot.edge(uid + n._op, uid)\n",
    "            \n",
    "    for n1,n2 in edges:\n",
    "        #connect n1 to the op node of n2\n",
    "        dot.edge(str(id(n1)), str(id(n2)) + n2._op)\n",
    "        \n",
    "    return dot"
   ]
  },
  {
   "cell_type": "code",
   "execution_count": 243,
   "id": "cb9152dc",
   "metadata": {},
   "outputs": [],
   "source": [
    "# Single Neuron Computation\n",
    "\n",
    "# Inputs x1, x2\n",
    "x1 = Value(2.0, label='x1')\n",
    "x2 = Value(0.0, label='x2')\n",
    "\n",
    "# Weights w1, w2\n",
    "w1 = Value(-3.0, label='w1')\n",
    "w2 = Value(1.0, label='w2')\n",
    "\n",
    "# Bias of the Neuron\n",
    "b = Value(6.8813735870195432, label='b')\n",
    "\n",
    "# x1*w1 + x2*w2 + b\n",
    "x1w1 = x1*w1 \n",
    "x1w1.label='x1w1'\n",
    "x2w2 = x2*w2 \n",
    "x2w2.label='x2w2'\n",
    "\n",
    "x1w1x2w2 = x1w1 + x2w2\n",
    "x1w1x2w2.label = 'x1w1x2w2'\n",
    "\n",
    "n = x1w1x2w2 + b\n",
    "n.label = 'n'\n",
    "\n",
    "o = n.tanh()\n",
    "o.label = 'o'"
   ]
  },
  {
   "cell_type": "code",
   "execution_count": 246,
   "id": "b3d5aaab",
   "metadata": {},
   "outputs": [
    {
     "data": {
      "image/svg+xml": [
       "<?xml version=\"1.0\" encoding=\"UTF-8\" standalone=\"no\"?>\n",
       "<!DOCTYPE svg PUBLIC \"-//W3C//DTD SVG 1.1//EN\"\n",
       " \"http://www.w3.org/Graphics/SVG/1.1/DTD/svg11.dtd\">\n",
       "<!-- Generated by graphviz version 2.40.1 (20161225.0304)\n",
       " -->\n",
       "<!-- Title: %3 Pages: 1 -->\n",
       "<svg width=\"1540pt\" height=\"210pt\"\n",
       " viewBox=\"0.00 0.00 1540.00 210.00\" xmlns=\"http://www.w3.org/2000/svg\" xmlns:xlink=\"http://www.w3.org/1999/xlink\">\n",
       "<g id=\"graph0\" class=\"graph\" transform=\"scale(1 1) rotate(0) translate(4 206)\">\n",
       "<title>%3</title>\n",
       "<polygon fill=\"#ffffff\" stroke=\"transparent\" points=\"-4,4 -4,-206 1536,-206 1536,4 -4,4\"/>\n",
       "<!-- 140425129837088 -->\n",
       "<g id=\"node1\" class=\"node\">\n",
       "<title>140425129837088</title>\n",
       "<polygon fill=\"none\" stroke=\"#000000\" points=\"1347,-109.5 1347,-145.5 1532,-145.5 1532,-109.5 1347,-109.5\"/>\n",
       "<text text-anchor=\"middle\" x=\"1358.5\" y=\"-123.8\" font-family=\"Times,serif\" font-size=\"14.00\" fill=\"#000000\">o</text>\n",
       "<polyline fill=\"none\" stroke=\"#000000\" points=\"1370,-109.5 1370,-145.5 \"/>\n",
       "<text text-anchor=\"middle\" x=\"1410\" y=\"-123.8\" font-family=\"Times,serif\" font-size=\"14.00\" fill=\"#000000\">data 0.7071</text>\n",
       "<polyline fill=\"none\" stroke=\"#000000\" points=\"1450,-109.5 1450,-145.5 \"/>\n",
       "<text text-anchor=\"middle\" x=\"1491\" y=\"-123.8\" font-family=\"Times,serif\" font-size=\"14.00\" fill=\"#000000\">grad 1.0000</text>\n",
       "</g>\n",
       "<!-- 140425129837088tanh -->\n",
       "<g id=\"node2\" class=\"node\">\n",
       "<title>140425129837088tanh</title>\n",
       "<ellipse fill=\"none\" stroke=\"#000000\" cx=\"1284\" cy=\"-127.5\" rx=\"27\" ry=\"18\"/>\n",
       "<text text-anchor=\"middle\" x=\"1284\" y=\"-123.8\" font-family=\"Times,serif\" font-size=\"14.00\" fill=\"#000000\">tanh</text>\n",
       "</g>\n",
       "<!-- 140425129837088tanh&#45;&gt;140425129837088 -->\n",
       "<g id=\"edge1\" class=\"edge\">\n",
       "<title>140425129837088tanh&#45;&gt;140425129837088</title>\n",
       "<path fill=\"none\" stroke=\"#000000\" d=\"M1311.086,-127.5C1318.6903,-127.5 1327.4399,-127.5 1336.7222,-127.5\"/>\n",
       "<polygon fill=\"#000000\" stroke=\"#000000\" points=\"1336.9746,-131.0001 1346.9746,-127.5 1336.9746,-124.0001 1336.9746,-131.0001\"/>\n",
       "</g>\n",
       "<!-- 140425129839200 -->\n",
       "<g id=\"node3\" class=\"node\">\n",
       "<title>140425129839200</title>\n",
       "<polygon fill=\"none\" stroke=\"#000000\" points=\"328.5,-110.5 328.5,-146.5 537.5,-146.5 537.5,-110.5 328.5,-110.5\"/>\n",
       "<text text-anchor=\"middle\" x=\"352\" y=\"-124.8\" font-family=\"Times,serif\" font-size=\"14.00\" fill=\"#000000\">x2w2</text>\n",
       "<polyline fill=\"none\" stroke=\"#000000\" points=\"375.5,-110.5 375.5,-146.5 \"/>\n",
       "<text text-anchor=\"middle\" x=\"415.5\" y=\"-124.8\" font-family=\"Times,serif\" font-size=\"14.00\" fill=\"#000000\">data 0.0000</text>\n",
       "<polyline fill=\"none\" stroke=\"#000000\" points=\"455.5,-110.5 455.5,-146.5 \"/>\n",
       "<text text-anchor=\"middle\" x=\"496.5\" y=\"-124.8\" font-family=\"Times,serif\" font-size=\"14.00\" fill=\"#000000\">grad 0.5000</text>\n",
       "</g>\n",
       "<!-- 140425129839584+ -->\n",
       "<g id=\"node15\" class=\"node\">\n",
       "<title>140425129839584+</title>\n",
       "<ellipse fill=\"none\" stroke=\"#000000\" cx=\"603\" cy=\"-100.5\" rx=\"27\" ry=\"18\"/>\n",
       "<text text-anchor=\"middle\" x=\"603\" y=\"-96.8\" font-family=\"Times,serif\" font-size=\"14.00\" fill=\"#000000\">+</text>\n",
       "</g>\n",
       "<!-- 140425129839200&#45;&gt;140425129839584+ -->\n",
       "<g id=\"edge6\" class=\"edge\">\n",
       "<title>140425129839200&#45;&gt;140425129839584+</title>\n",
       "<path fill=\"none\" stroke=\"#000000\" d=\"M537.7598,-111.2455C547.9609,-109.5653 557.7601,-107.9513 566.5243,-106.5078\"/>\n",
       "<polygon fill=\"#000000\" stroke=\"#000000\" points=\"567.3607,-109.9172 576.6589,-104.8385 566.223,-103.0103 567.3607,-109.9172\"/>\n",
       "</g>\n",
       "<!-- 140425129839200* -->\n",
       "<g id=\"node4\" class=\"node\">\n",
       "<title>140425129839200*</title>\n",
       "<ellipse fill=\"none\" stroke=\"#000000\" cx=\"263\" cy=\"-128.5\" rx=\"27\" ry=\"18\"/>\n",
       "<text text-anchor=\"middle\" x=\"263\" y=\"-124.8\" font-family=\"Times,serif\" font-size=\"14.00\" fill=\"#000000\">*</text>\n",
       "</g>\n",
       "<!-- 140425129839200*&#45;&gt;140425129839200 -->\n",
       "<g id=\"edge2\" class=\"edge\">\n",
       "<title>140425129839200*&#45;&gt;140425129839200</title>\n",
       "<path fill=\"none\" stroke=\"#000000\" d=\"M290.3134,-128.5C298.4087,-128.5 307.8256,-128.5 317.8893,-128.5\"/>\n",
       "<polygon fill=\"#000000\" stroke=\"#000000\" points=\"318.1435,-132.0001 328.1435,-128.5 318.1434,-125.0001 318.1435,-132.0001\"/>\n",
       "</g>\n",
       "<!-- 140425349957232 -->\n",
       "<g id=\"node5\" class=\"node\">\n",
       "<title>140425349957232</title>\n",
       "<polygon fill=\"none\" stroke=\"#000000\" points=\"326,-55.5 326,-91.5 540,-91.5 540,-55.5 326,-55.5\"/>\n",
       "<text text-anchor=\"middle\" x=\"349.5\" y=\"-69.8\" font-family=\"Times,serif\" font-size=\"14.00\" fill=\"#000000\">x1w1</text>\n",
       "<polyline fill=\"none\" stroke=\"#000000\" points=\"373,-55.5 373,-91.5 \"/>\n",
       "<text text-anchor=\"middle\" x=\"415.5\" y=\"-69.8\" font-family=\"Times,serif\" font-size=\"14.00\" fill=\"#000000\">data &#45;6.0000</text>\n",
       "<polyline fill=\"none\" stroke=\"#000000\" points=\"458,-55.5 458,-91.5 \"/>\n",
       "<text text-anchor=\"middle\" x=\"499\" y=\"-69.8\" font-family=\"Times,serif\" font-size=\"14.00\" fill=\"#000000\">grad 0.5000</text>\n",
       "</g>\n",
       "<!-- 140425349957232&#45;&gt;140425129839584+ -->\n",
       "<g id=\"edge7\" class=\"edge\">\n",
       "<title>140425349957232&#45;&gt;140425129839584+</title>\n",
       "<path fill=\"none\" stroke=\"#000000\" d=\"M540.1813,-90.5229C549.4937,-92.0019 558.4242,-93.4203 566.4815,-94.7\"/>\n",
       "<polygon fill=\"#000000\" stroke=\"#000000\" points=\"566.1041,-98.1839 576.5294,-96.2958 567.2022,-91.2705 566.1041,-98.1839\"/>\n",
       "</g>\n",
       "<!-- 140425349957232* -->\n",
       "<g id=\"node6\" class=\"node\">\n",
       "<title>140425349957232*</title>\n",
       "<ellipse fill=\"none\" stroke=\"#000000\" cx=\"263\" cy=\"-73.5\" rx=\"27\" ry=\"18\"/>\n",
       "<text text-anchor=\"middle\" x=\"263\" y=\"-69.8\" font-family=\"Times,serif\" font-size=\"14.00\" fill=\"#000000\">*</text>\n",
       "</g>\n",
       "<!-- 140425349957232*&#45;&gt;140425349957232 -->\n",
       "<g id=\"edge3\" class=\"edge\">\n",
       "<title>140425349957232*&#45;&gt;140425349957232</title>\n",
       "<path fill=\"none\" stroke=\"#000000\" d=\"M290.3134,-73.5C297.8264,-73.5 306.4779,-73.5 315.7282,-73.5\"/>\n",
       "<polygon fill=\"#000000\" stroke=\"#000000\" points=\"315.9753,-77.0001 325.9753,-73.5 315.9752,-70.0001 315.9753,-77.0001\"/>\n",
       "</g>\n",
       "<!-- 140425345837520 -->\n",
       "<g id=\"node7\" class=\"node\">\n",
       "<title>140425345837520</title>\n",
       "<polygon fill=\"none\" stroke=\"#000000\" points=\"0,-55.5 0,-91.5 200,-91.5 200,-55.5 0,-55.5\"/>\n",
       "<text text-anchor=\"middle\" x=\"16.5\" y=\"-69.8\" font-family=\"Times,serif\" font-size=\"14.00\" fill=\"#000000\">w1</text>\n",
       "<polyline fill=\"none\" stroke=\"#000000\" points=\"33,-55.5 33,-91.5 \"/>\n",
       "<text text-anchor=\"middle\" x=\"75.5\" y=\"-69.8\" font-family=\"Times,serif\" font-size=\"14.00\" fill=\"#000000\">data &#45;3.0000</text>\n",
       "<polyline fill=\"none\" stroke=\"#000000\" points=\"118,-55.5 118,-91.5 \"/>\n",
       "<text text-anchor=\"middle\" x=\"159\" y=\"-69.8\" font-family=\"Times,serif\" font-size=\"14.00\" fill=\"#000000\">grad 1.0000</text>\n",
       "</g>\n",
       "<!-- 140425345837520&#45;&gt;140425349957232* -->\n",
       "<g id=\"edge10\" class=\"edge\">\n",
       "<title>140425345837520&#45;&gt;140425349957232*</title>\n",
       "<path fill=\"none\" stroke=\"#000000\" d=\"M200.4461,-73.5C209.3643,-73.5 217.962,-73.5 225.7793,-73.5\"/>\n",
       "<polygon fill=\"#000000\" stroke=\"#000000\" points=\"225.9124,-77.0001 235.9123,-73.5 225.9123,-70.0001 225.9124,-77.0001\"/>\n",
       "</g>\n",
       "<!-- 140425345837424 -->\n",
       "<g id=\"node8\" class=\"node\">\n",
       "<title>140425345837424</title>\n",
       "<polygon fill=\"none\" stroke=\"#000000\" points=\"695.5,-137.5 695.5,-173.5 880.5,-173.5 880.5,-137.5 695.5,-137.5\"/>\n",
       "<text text-anchor=\"middle\" x=\"707\" y=\"-151.8\" font-family=\"Times,serif\" font-size=\"14.00\" fill=\"#000000\">b</text>\n",
       "<polyline fill=\"none\" stroke=\"#000000\" points=\"718.5,-137.5 718.5,-173.5 \"/>\n",
       "<text text-anchor=\"middle\" x=\"758.5\" y=\"-151.8\" font-family=\"Times,serif\" font-size=\"14.00\" fill=\"#000000\">data 6.8814</text>\n",
       "<polyline fill=\"none\" stroke=\"#000000\" points=\"798.5,-137.5 798.5,-173.5 \"/>\n",
       "<text text-anchor=\"middle\" x=\"839.5\" y=\"-151.8\" font-family=\"Times,serif\" font-size=\"14.00\" fill=\"#000000\">grad 0.5000</text>\n",
       "</g>\n",
       "<!-- 140425129837424+ -->\n",
       "<g id=\"node12\" class=\"node\">\n",
       "<title>140425129837424+</title>\n",
       "<ellipse fill=\"none\" stroke=\"#000000\" cx=\"973\" cy=\"-127.5\" rx=\"27\" ry=\"18\"/>\n",
       "<text text-anchor=\"middle\" x=\"973\" y=\"-123.8\" font-family=\"Times,serif\" font-size=\"14.00\" fill=\"#000000\">+</text>\n",
       "</g>\n",
       "<!-- 140425345837424&#45;&gt;140425129837424+ -->\n",
       "<g id=\"edge9\" class=\"edge\">\n",
       "<title>140425345837424&#45;&gt;140425129837424+</title>\n",
       "<path fill=\"none\" stroke=\"#000000\" d=\"M880.771,-141.459C900.5911,-138.4592 920.3945,-135.4619 936.5415,-133.018\"/>\n",
       "<polygon fill=\"#000000\" stroke=\"#000000\" points=\"937.2241,-136.4547 946.5877,-131.4975 936.1765,-129.5335 937.2241,-136.4547\"/>\n",
       "</g>\n",
       "<!-- 140425345837232 -->\n",
       "<g id=\"node9\" class=\"node\">\n",
       "<title>140425345837232</title>\n",
       "<polygon fill=\"none\" stroke=\"#000000\" points=\"2,-.5 2,-36.5 198,-36.5 198,-.5 2,-.5\"/>\n",
       "<text text-anchor=\"middle\" x=\"17\" y=\"-14.8\" font-family=\"Times,serif\" font-size=\"14.00\" fill=\"#000000\">x1</text>\n",
       "<polyline fill=\"none\" stroke=\"#000000\" points=\"32,-.5 32,-36.5 \"/>\n",
       "<text text-anchor=\"middle\" x=\"72\" y=\"-14.8\" font-family=\"Times,serif\" font-size=\"14.00\" fill=\"#000000\">data 2.0000</text>\n",
       "<polyline fill=\"none\" stroke=\"#000000\" points=\"112,-.5 112,-36.5 \"/>\n",
       "<text text-anchor=\"middle\" x=\"155\" y=\"-14.8\" font-family=\"Times,serif\" font-size=\"14.00\" fill=\"#000000\">grad &#45;1.5000</text>\n",
       "</g>\n",
       "<!-- 140425345837232&#45;&gt;140425349957232* -->\n",
       "<g id=\"edge11\" class=\"edge\">\n",
       "<title>140425345837232&#45;&gt;140425349957232*</title>\n",
       "<path fill=\"none\" stroke=\"#000000\" d=\"M168.9601,-36.5202C179.4305,-39.627 190.0532,-42.9932 200,-46.5 210.4607,-50.188 221.6559,-54.7698 231.6639,-59.1056\"/>\n",
       "<polygon fill=\"#000000\" stroke=\"#000000\" points=\"230.2707,-62.3164 240.8327,-63.1501 233.0959,-55.9118 230.2707,-62.3164\"/>\n",
       "</g>\n",
       "<!-- 140425345835744 -->\n",
       "<g id=\"node10\" class=\"node\">\n",
       "<title>140425345835744</title>\n",
       "<polygon fill=\"none\" stroke=\"#000000\" points=\"2.5,-165.5 2.5,-201.5 197.5,-201.5 197.5,-165.5 2.5,-165.5\"/>\n",
       "<text text-anchor=\"middle\" x=\"19\" y=\"-179.8\" font-family=\"Times,serif\" font-size=\"14.00\" fill=\"#000000\">w2</text>\n",
       "<polyline fill=\"none\" stroke=\"#000000\" points=\"35.5,-165.5 35.5,-201.5 \"/>\n",
       "<text text-anchor=\"middle\" x=\"75.5\" y=\"-179.8\" font-family=\"Times,serif\" font-size=\"14.00\" fill=\"#000000\">data 1.0000</text>\n",
       "<polyline fill=\"none\" stroke=\"#000000\" points=\"115.5,-165.5 115.5,-201.5 \"/>\n",
       "<text text-anchor=\"middle\" x=\"156.5\" y=\"-179.8\" font-family=\"Times,serif\" font-size=\"14.00\" fill=\"#000000\">grad 0.0000</text>\n",
       "</g>\n",
       "<!-- 140425345835744&#45;&gt;140425129839200* -->\n",
       "<g id=\"edge13\" class=\"edge\">\n",
       "<title>140425345835744&#45;&gt;140425129839200*</title>\n",
       "<path fill=\"none\" stroke=\"#000000\" d=\"M172.2409,-165.4257C181.6487,-162.6548 191.1025,-159.6571 200,-156.5 210.5997,-152.7389 221.9063,-147.9663 231.9726,-143.4316\"/>\n",
       "<polygon fill=\"#000000\" stroke=\"#000000\" points=\"233.5571,-146.5553 241.1803,-139.1975 230.6325,-140.1955 233.5571,-146.5553\"/>\n",
       "</g>\n",
       "<!-- 140425129837424 -->\n",
       "<g id=\"node11\" class=\"node\">\n",
       "<title>140425129837424</title>\n",
       "<polygon fill=\"none\" stroke=\"#000000\" points=\"1036,-109.5 1036,-145.5 1221,-145.5 1221,-109.5 1036,-109.5\"/>\n",
       "<text text-anchor=\"middle\" x=\"1047.5\" y=\"-123.8\" font-family=\"Times,serif\" font-size=\"14.00\" fill=\"#000000\">n</text>\n",
       "<polyline fill=\"none\" stroke=\"#000000\" points=\"1059,-109.5 1059,-145.5 \"/>\n",
       "<text text-anchor=\"middle\" x=\"1099\" y=\"-123.8\" font-family=\"Times,serif\" font-size=\"14.00\" fill=\"#000000\">data 0.8814</text>\n",
       "<polyline fill=\"none\" stroke=\"#000000\" points=\"1139,-109.5 1139,-145.5 \"/>\n",
       "<text text-anchor=\"middle\" x=\"1180\" y=\"-123.8\" font-family=\"Times,serif\" font-size=\"14.00\" fill=\"#000000\">grad 0.5000</text>\n",
       "</g>\n",
       "<!-- 140425129837424&#45;&gt;140425129837088tanh -->\n",
       "<g id=\"edge14\" class=\"edge\">\n",
       "<title>140425129837424&#45;&gt;140425129837088tanh</title>\n",
       "<path fill=\"none\" stroke=\"#000000\" d=\"M1221.2004,-127.5C1230.1436,-127.5 1238.8125,-127.5 1246.7095,-127.5\"/>\n",
       "<polygon fill=\"#000000\" stroke=\"#000000\" points=\"1246.9529,-131.0001 1256.9528,-127.5 1246.9528,-124.0001 1246.9529,-131.0001\"/>\n",
       "</g>\n",
       "<!-- 140425129837424+&#45;&gt;140425129837424 -->\n",
       "<g id=\"edge4\" class=\"edge\">\n",
       "<title>140425129837424+&#45;&gt;140425129837424</title>\n",
       "<path fill=\"none\" stroke=\"#000000\" d=\"M1000.086,-127.5C1007.6903,-127.5 1016.4399,-127.5 1025.7222,-127.5\"/>\n",
       "<polygon fill=\"#000000\" stroke=\"#000000\" points=\"1025.9746,-131.0001 1035.9746,-127.5 1025.9746,-124.0001 1025.9746,-131.0001\"/>\n",
       "</g>\n",
       "<!-- 140425345835984 -->\n",
       "<g id=\"node13\" class=\"node\">\n",
       "<title>140425345835984</title>\n",
       "<polygon fill=\"none\" stroke=\"#000000\" points=\"4,-110.5 4,-146.5 196,-146.5 196,-110.5 4,-110.5\"/>\n",
       "<text text-anchor=\"middle\" x=\"19\" y=\"-124.8\" font-family=\"Times,serif\" font-size=\"14.00\" fill=\"#000000\">x2</text>\n",
       "<polyline fill=\"none\" stroke=\"#000000\" points=\"34,-110.5 34,-146.5 \"/>\n",
       "<text text-anchor=\"middle\" x=\"74\" y=\"-124.8\" font-family=\"Times,serif\" font-size=\"14.00\" fill=\"#000000\">data 0.0000</text>\n",
       "<polyline fill=\"none\" stroke=\"#000000\" points=\"114,-110.5 114,-146.5 \"/>\n",
       "<text text-anchor=\"middle\" x=\"155\" y=\"-124.8\" font-family=\"Times,serif\" font-size=\"14.00\" fill=\"#000000\">grad 0.5000</text>\n",
       "</g>\n",
       "<!-- 140425345835984&#45;&gt;140425129839200* -->\n",
       "<g id=\"edge12\" class=\"edge\">\n",
       "<title>140425345835984&#45;&gt;140425129839200*</title>\n",
       "<path fill=\"none\" stroke=\"#000000\" d=\"M196.2314,-128.5C206.6349,-128.5 216.7072,-128.5 225.7394,-128.5\"/>\n",
       "<polygon fill=\"#000000\" stroke=\"#000000\" points=\"225.8222,-132.0001 235.8221,-128.5 225.8221,-125.0001 225.8222,-132.0001\"/>\n",
       "</g>\n",
       "<!-- 140425129839584 -->\n",
       "<g id=\"node14\" class=\"node\">\n",
       "<title>140425129839584</title>\n",
       "<polygon fill=\"none\" stroke=\"#000000\" points=\"666,-82.5 666,-118.5 910,-118.5 910,-82.5 666,-82.5\"/>\n",
       "<text text-anchor=\"middle\" x=\"704.5\" y=\"-96.8\" font-family=\"Times,serif\" font-size=\"14.00\" fill=\"#000000\">x1w1x2w2</text>\n",
       "<polyline fill=\"none\" stroke=\"#000000\" points=\"743,-82.5 743,-118.5 \"/>\n",
       "<text text-anchor=\"middle\" x=\"785.5\" y=\"-96.8\" font-family=\"Times,serif\" font-size=\"14.00\" fill=\"#000000\">data &#45;6.0000</text>\n",
       "<polyline fill=\"none\" stroke=\"#000000\" points=\"828,-82.5 828,-118.5 \"/>\n",
       "<text text-anchor=\"middle\" x=\"869\" y=\"-96.8\" font-family=\"Times,serif\" font-size=\"14.00\" fill=\"#000000\">grad 0.5000</text>\n",
       "</g>\n",
       "<!-- 140425129839584&#45;&gt;140425129837424+ -->\n",
       "<g id=\"edge8\" class=\"edge\">\n",
       "<title>140425129839584&#45;&gt;140425129837424+</title>\n",
       "<path fill=\"none\" stroke=\"#000000\" d=\"M910.1093,-118.3214C919.4853,-119.6897 928.4076,-120.9919 936.431,-122.1629\"/>\n",
       "<polygon fill=\"#000000\" stroke=\"#000000\" points=\"936.0226,-125.6403 946.4233,-123.6212 937.0336,-118.7137 936.0226,-125.6403\"/>\n",
       "</g>\n",
       "<!-- 140425129839584+&#45;&gt;140425129839584 -->\n",
       "<g id=\"edge5\" class=\"edge\">\n",
       "<title>140425129839584+&#45;&gt;140425129839584</title>\n",
       "<path fill=\"none\" stroke=\"#000000\" d=\"M630.2974,-100.5C637.7524,-100.5 646.357,-100.5 655.6217,-100.5\"/>\n",
       "<polygon fill=\"#000000\" stroke=\"#000000\" points=\"655.9109,-104.0001 665.9109,-100.5 655.9108,-97.0001 655.9109,-104.0001\"/>\n",
       "</g>\n",
       "</g>\n",
       "</svg>\n"
      ],
      "text/plain": [
       "<graphviz.graphs.Digraph at 0x7fb752f07cd0>"
      ]
     },
     "execution_count": 246,
     "metadata": {},
     "output_type": "execute_result"
    }
   ],
   "source": [
    "draw_dot(o)"
   ]
  },
  {
   "cell_type": "code",
   "execution_count": 245,
   "id": "89db8473",
   "metadata": {},
   "outputs": [],
   "source": [
    "o.backward()"
   ]
  },
  {
   "cell_type": "code",
   "execution_count": 186,
   "id": "a1235d59",
   "metadata": {},
   "outputs": [],
   "source": [
    "# Excercise Manual backprop by applying chain rule at each node;\n",
    "\n",
    "# New Perspective : View the various operators as gradient distributors  "
   ]
  },
  {
   "cell_type": "code",
   "execution_count": 206,
   "id": "608bca72",
   "metadata": {},
   "outputs": [],
   "source": [
    "# Topological sort on the DAG will give us the order of backprop\n",
    "# o.grad = 1.0\n",
    "\n",
    "# topo = []\n",
    "# visited = set()\n",
    "# def build_topo(v):\n",
    "#     if v not in visited:\n",
    "#         visited.add(v)\n",
    "#         for child in v._prev:\n",
    "#             build_topo(child)\n",
    "            \n",
    "#         topo.append(v)\n",
    "        \n",
    "        \n",
    "# build_topo(o)\n",
    "\n",
    "# for node in reversed(topo):\n",
    "#     node._backward()"
   ]
  },
  {
   "cell_type": "code",
   "execution_count": null,
   "id": "04d40f7a",
   "metadata": {},
   "outputs": [],
   "source": []
  },
  {
   "cell_type": "code",
   "execution_count": 263,
   "id": "51d934ed",
   "metadata": {},
   "outputs": [],
   "source": [
    "### Using PyTorch's Autograd engine to replicate the same"
   ]
  },
  {
   "cell_type": "code",
   "execution_count": 264,
   "id": "ea336b46",
   "metadata": {},
   "outputs": [],
   "source": [
    "import torch"
   ]
  },
  {
   "cell_type": "code",
   "execution_count": 265,
   "id": "23d09b93",
   "metadata": {},
   "outputs": [
    {
     "name": "stdout",
     "output_type": "stream",
     "text": [
      "0.7071066904050358\n",
      "-------------\n",
      "x1 -1.5000003851533106\n",
      "w1 1.0000002567688737\n",
      "x2 0.5000001283844369\n",
      "w2 0.0\n"
     ]
    }
   ],
   "source": [
    "# Inputs x1, x2\n",
    "x1 = torch.Tensor([2.0]).double()\n",
    "x1.requires_grad = True\n",
    "\n",
    "x2 = torch.Tensor([0.0]).double()\n",
    "x2.requires_grad = True\n",
    "\n",
    "# Weights w1, w2\n",
    "w1 = torch.Tensor([-3.0]).double()\n",
    "w1.requires_grad = True\n",
    "\n",
    "w2 = torch.Tensor([1.0]).double()\n",
    "w2.requires_grad = True\n",
    "\n",
    "# Bias of the Neuron\n",
    "\n",
    "b = torch.Tensor([6.8813735870195432]).double()\n",
    "b.requires_grad = True\n",
    "\n",
    "\n",
    "n = (x1*w1) + (x2*w2) + b\n",
    "\n",
    "o = torch.tanh(n)\n",
    "print(o.data.item())\n",
    "\n",
    "\n",
    "o.backward()\n",
    "print(\"-------------\")\n",
    "print('x1', x1.grad.item())\n",
    "print('w1', w1.grad.item())\n",
    "print('x2', x2.grad.item())\n",
    "print('w2', w2.grad.item())"
   ]
  },
  {
   "cell_type": "code",
   "execution_count": 266,
   "id": "935c2b6f",
   "metadata": {},
   "outputs": [],
   "source": [
    "# PyTorch's Autograd computation matches with the implemented Minigrad computation"
   ]
  },
  {
   "cell_type": "code",
   "execution_count": null,
   "id": "07993b83",
   "metadata": {},
   "outputs": [],
   "source": []
  },
  {
   "cell_type": "code",
   "execution_count": 298,
   "id": "26e9bfa4",
   "metadata": {},
   "outputs": [],
   "source": [
    "# Trying to replicate a nn Module"
   ]
  },
  {
   "cell_type": "code",
   "execution_count": 299,
   "id": "7fdc5184",
   "metadata": {},
   "outputs": [],
   "source": [
    "import random"
   ]
  },
  {
   "cell_type": "code",
   "execution_count": 300,
   "id": "4bce317b",
   "metadata": {},
   "outputs": [],
   "source": [
    "class Neuron:\n",
    "    \n",
    "    def __init__(self, nin):\n",
    "        self.w = [Value(random.uniform(-1,1)) for _ in range(nin)]\n",
    "        self.b = Value(random.uniform(-1,1)) \n",
    "        \n",
    "    def __call__(self, x):\n",
    "        act = sum((wi*xi for wi, xi in zip(self.w, x)), self.b)\n",
    "        out = act.tanh()\n",
    "        return out\n",
    "    \n",
    "    def parameters(self):\n",
    "        return self.w + [self.b]\n",
    "    \n",
    "class Layer:\n",
    "    \n",
    "    def __init__(self, nin, nout):\n",
    "        self.neurons = [Neuron(nin) for _ in range(nout)]\n",
    "        \n",
    "    def __call__(self, x):\n",
    "        outs = [n(x) for n in self.neurons]\n",
    "        return outs[0] if len(outs) == 1 else outs \n",
    "    \n",
    "    def parameters(self):\n",
    "        return [p for neuron in self.neurons for p in neuron.parameters()]\n",
    "    \n",
    "class MLP:\n",
    "    \n",
    "    def __init__(self, nin, nouts):\n",
    "        sz = [nin] + nouts\n",
    "#         self.layers = [[Neuron(sz[i]) for _ in range(sz[i+1])] for i in range(len(sz)-1)]\n",
    "        self.layers = [Layer(sz[i], sz[i+1]) for i in range(len(nouts))]\n",
    "        \n",
    "    def __call__(self, x):\n",
    "        \n",
    "        for layer in self.layers:\n",
    "            x = layer(x)\n",
    "        \n",
    "        return x\n",
    "    \n",
    "    def parameters(self):\n",
    "        return [p for layer in self.layers for p in layer.parameters()]"
   ]
  },
  {
   "cell_type": "code",
   "execution_count": 301,
   "id": "731581b1",
   "metadata": {},
   "outputs": [
    {
     "data": {
      "text/plain": [
       "Value(data=0.17536797682635075)"
      ]
     },
     "execution_count": 301,
     "metadata": {},
     "output_type": "execute_result"
    }
   ],
   "source": [
    "x = [2.0, 3.0, -1.0]\n",
    "n = MLP(3, [4, 4, 1])\n",
    "n(x)"
   ]
  },
  {
   "cell_type": "code",
   "execution_count": 302,
   "id": "bc5ee723",
   "metadata": {},
   "outputs": [],
   "source": [
    "# draw_dot(n(x))"
   ]
  },
  {
   "cell_type": "code",
   "execution_count": 303,
   "id": "0bc08c4d",
   "metadata": {
    "scrolled": false
   },
   "outputs": [],
   "source": [
    "# Making a small dataset\n",
    "\n",
    "xs = [\n",
    "        [2.0, 3.0, -1.0],\n",
    "        [3.0, -1.0, 0.5],\n",
    "        [0.5, 1.0, 1.0],\n",
    "        [1.0, 1.0, -1.0]\n",
    "     ]\n",
    "\n",
    "ys = [1.0, -1.0, -1.0, 1.0]"
   ]
  },
  {
   "cell_type": "code",
   "execution_count": 304,
   "id": "987715ca",
   "metadata": {},
   "outputs": [],
   "source": [
    "# Creating a Training Loop"
   ]
  },
  {
   "cell_type": "code",
   "execution_count": 305,
   "id": "142cc6f2",
   "metadata": {},
   "outputs": [
    {
     "name": "stdout",
     "output_type": "stream",
     "text": [
      "0 2.69100619800838\n",
      "1 1.7897863412464257\n",
      "2 0.5822684736702424\n",
      "3 0.04412325682146349\n",
      "4 0.03654919264018447\n",
      "5 0.03124963861664066\n",
      "6 0.02732561645619062\n",
      "7 0.024300161609367286\n",
      "8 0.02189483012916877\n",
      "9 0.019935673274845703\n",
      "10 0.018308300481301196\n",
      "11 0.016934371160719507\n",
      "12 0.015758427441724142\n",
      "13 0.014740110264889097\n",
      "14 0.013849350976924845\n",
      "15 0.013063289872714167\n",
      "16 0.01236423877704335\n",
      "17 0.011738297106477249\n",
      "18 0.011174389404271423\n",
      "19 0.010663581930732479\n",
      "20 0.010198588340908095\n",
      "21 0.009773406155444007\n",
      "22 0.009383045390215752\n",
      "23 0.00902332321521386\n",
      "24 0.008690706643775657\n",
      "25 0.008382190645809594\n",
      "26 0.008095202720389126\n",
      "27 0.007827527463352243\n",
      "28 0.0075772464082941035\n",
      "29 0.007342689651141266\n"
     ]
    }
   ],
   "source": [
    "for k in range(30):\n",
    "    ypred = [n(x) for x in xs]\n",
    "    loss = sum((yout - ygt)**2 for ygt, yout in zip(ys, ypred))\n",
    "    \n",
    "    # Zero out gradients     \n",
    "    for p in n.parameters():\n",
    "        p.grad = 0.0\n",
    "    \n",
    "    # Compute gradients\n",
    "    loss.backward()\n",
    "    \n",
    "    \n",
    "    # Perform gradient descent\n",
    "    for p in n.parameters():\n",
    "        p.data += (-0.1 * p.grad)\n",
    "        \n",
    "    print(k, loss.data)"
   ]
  },
  {
   "cell_type": "code",
   "execution_count": 306,
   "id": "8903d8fd",
   "metadata": {},
   "outputs": [
    {
     "data": {
      "text/plain": [
       "([Value(data=0.9562525135100408),\n",
       "  Value(data=-0.9619578705140925),\n",
       "  Value(data=-0.9524898033225987),\n",
       "  Value(data=0.9584738073885385)],\n",
       " [1.0, -1.0, -1.0, 1.0])"
      ]
     },
     "execution_count": 306,
     "metadata": {},
     "output_type": "execute_result"
    }
   ],
   "source": [
    "ypred,ys"
   ]
  },
  {
   "cell_type": "code",
   "execution_count": null,
   "id": "3bf6a6b8",
   "metadata": {},
   "outputs": [],
   "source": []
  },
  {
   "cell_type": "code",
   "execution_count": null,
   "id": "898918ba",
   "metadata": {},
   "outputs": [],
   "source": []
  },
  {
   "cell_type": "code",
   "execution_count": null,
   "id": "08bcc7fa",
   "metadata": {},
   "outputs": [],
   "source": [
    "# Extra"
   ]
  },
  {
   "cell_type": "code",
   "execution_count": 273,
   "id": "163f1ac6",
   "metadata": {},
   "outputs": [
    {
     "data": {
      "text/plain": [
       "[Value(data=0.014814953524848259),\n",
       " Value(data=3.5215756934885714),\n",
       " Value(data=0.03143331213443143),\n",
       " Value(data=0.017644169342277312)]"
      ]
     },
     "execution_count": 273,
     "metadata": {},
     "output_type": "execute_result"
    }
   ],
   "source": [
    "[(yout - ygt)**2 for yout, ygt in zip(ypred, ys)]"
   ]
  },
  {
   "cell_type": "code",
   "execution_count": 274,
   "id": "12683279",
   "metadata": {},
   "outputs": [
    {
     "data": {
      "text/plain": [
       "Value(data=3.5854681284901284)"
      ]
     },
     "execution_count": 274,
     "metadata": {},
     "output_type": "execute_result"
    }
   ],
   "source": [
    "loss = sum((yout - ygt)**2 for ygt, yout in zip(ys, ypred))\n",
    "loss"
   ]
  },
  {
   "cell_type": "code",
   "execution_count": 275,
   "id": "d37bb817",
   "metadata": {},
   "outputs": [],
   "source": [
    "# draw_dot(loss)"
   ]
  },
  {
   "cell_type": "code",
   "execution_count": null,
   "id": "61697368",
   "metadata": {},
   "outputs": [],
   "source": [
    "loss.backward()"
   ]
  },
  {
   "cell_type": "code",
   "execution_count": 277,
   "id": "049f2962",
   "metadata": {},
   "outputs": [],
   "source": [
    "# Doing gradient descent manually; (add parameters function to the nn Modules)"
   ]
  },
  {
   "cell_type": "code",
   "execution_count": 279,
   "id": "9fd0a7e6",
   "metadata": {},
   "outputs": [
    {
     "data": {
      "text/plain": [
       "(-0.5161549729082184, -0.042464902387650036)"
      ]
     },
     "execution_count": 279,
     "metadata": {},
     "output_type": "execute_result"
    }
   ],
   "source": [
    "n.layers[0].neurons[0].w[0].data, n.layers[0].neurons[0].w[0].grad"
   ]
  },
  {
   "cell_type": "code",
   "execution_count": 280,
   "id": "821b8597",
   "metadata": {},
   "outputs": [],
   "source": [
    "for p in n.parameters():\n",
    "    p.data += (-0.01 * p.grad)"
   ]
  },
  {
   "cell_type": "code",
   "execution_count": 281,
   "id": "766c6071",
   "metadata": {},
   "outputs": [
    {
     "data": {
      "text/plain": [
       "Value(data=3.5639453025149863)"
      ]
     },
     "execution_count": 281,
     "metadata": {},
     "output_type": "execute_result"
    }
   ],
   "source": [
    "# New Loss\n",
    "ypred = [n(x) for x in xs]\n",
    "loss = sum((yout - ygt)**2 for ygt, yout in zip(ys, ypred))\n",
    "loss"
   ]
  },
  {
   "cell_type": "code",
   "execution_count": null,
   "id": "8814094f",
   "metadata": {},
   "outputs": [],
   "source": []
  }
 ],
 "metadata": {
  "kernelspec": {
   "display_name": "Python 3 (ipykernel)",
   "language": "python",
   "name": "python3"
  },
  "language_info": {
   "codemirror_mode": {
    "name": "ipython",
    "version": 3
   },
   "file_extension": ".py",
   "mimetype": "text/x-python",
   "name": "python",
   "nbconvert_exporter": "python",
   "pygments_lexer": "ipython3",
   "version": "3.8.2"
  }
 },
 "nbformat": 4,
 "nbformat_minor": 5
}
