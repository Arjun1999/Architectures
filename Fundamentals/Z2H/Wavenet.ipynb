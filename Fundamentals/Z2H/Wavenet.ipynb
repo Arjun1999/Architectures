{
 "cells": [
  {
   "cell_type": "code",
   "execution_count": 1,
   "id": "eb9d47fc",
   "metadata": {},
   "outputs": [],
   "source": [
    "# In this notebook, we replicate the Wavenet Architecture on text\n",
    "# (We do an hierarchical accumulation, instead of all together)"
   ]
  },
  {
   "cell_type": "code",
   "execution_count": 2,
   "id": "8f98e247",
   "metadata": {},
   "outputs": [
    {
     "name": "stderr",
     "output_type": "stream",
     "text": [
      "/home/arjunv/miniconda3/envs/pyt2/lib/python3.8/site-packages/tqdm/auto.py:22: TqdmWarning: IProgress not found. Please update jupyter and ipywidgets. See https://ipywidgets.readthedocs.io/en/stable/user_install.html\n",
      "  from .autonotebook import tqdm as notebook_tqdm\n"
     ]
    }
   ],
   "source": [
    "import torch\n",
    "import torch.nn.functional as F\n",
    "import matplotlib.pyplot as plt \n",
    "%matplotlib inline"
   ]
  },
  {
   "cell_type": "code",
   "execution_count": 3,
   "id": "f40dde1f",
   "metadata": {},
   "outputs": [
    {
     "name": "stdout",
     "output_type": "stream",
     "text": [
      "32033\n",
      "15\n",
      "['emma', 'olivia', 'ava', 'isabella', 'sophia', 'charlotte', 'mia', 'amelia', 'harper', 'evelyn']\n"
     ]
    }
   ],
   "source": [
    "# Reading all the words\n",
    "words = open('names.txt', 'r').read().splitlines()\n",
    "\n",
    "print(len(words))\n",
    "print(max(len(w) for w in words))\n",
    "print(words[:10])"
   ]
  },
  {
   "cell_type": "code",
   "execution_count": 4,
   "id": "7de9967c",
   "metadata": {},
   "outputs": [
    {
     "name": "stdout",
     "output_type": "stream",
     "text": [
      "{1: 'a', 2: 'b', 3: 'c', 4: 'd', 5: 'e', 6: 'f', 7: 'g', 8: 'h', 9: 'i', 10: 'j', 11: 'k', 12: 'l', 13: 'm', 14: 'n', 15: 'o', 16: 'p', 17: 'q', 18: 'r', 19: 's', 20: 't', 21: 'u', 22: 'v', 23: 'w', 24: 'x', 25: 'y', 26: 'z', 0: '.'}\n",
      "27\n"
     ]
    }
   ],
   "source": [
    "# build the vocabulary of characters and mappings to/from integers\n",
    "chars = sorted(list(set(''.join(words))))\n",
    "stoi = {s:i+1 for i,s in enumerate(chars)}\n",
    "stoi['.'] = 0\n",
    "\n",
    "itos = {i:s for s,i in stoi.items()}\n",
    "\n",
    "vocab_size = len(itos)\n",
    "print(itos)\n",
    "print(vocab_size)"
   ]
  },
  {
   "cell_type": "code",
   "execution_count": 5,
   "id": "804f70a1",
   "metadata": {},
   "outputs": [],
   "source": [
    "# Shuffle the words\n",
    "import random\n",
    "\n",
    "random.seed(42)\n",
    "random.shuffle(words)"
   ]
  },
  {
   "cell_type": "code",
   "execution_count": 6,
   "id": "847cbd8f",
   "metadata": {},
   "outputs": [
    {
     "name": "stdout",
     "output_type": "stream",
     "text": [
      "torch.Size([182625, 8]) torch.Size([182625])\n",
      "torch.Size([22655, 8]) torch.Size([22655])\n",
      "torch.Size([22866, 8]) torch.Size([22866])\n"
     ]
    }
   ],
   "source": [
    "# Building the dataset\n",
    "block_size = 8 \n",
    "def build_dataset(words):  \n",
    "    X, Y = [], []\n",
    "  \n",
    "    for w in words:\n",
    "        context = [0] * block_size\n",
    "        for ch in w + '.':\n",
    "            ix = stoi[ch]\n",
    "            X.append(context)\n",
    "            Y.append(ix)\n",
    "            context = context[1:] + [ix] \n",
    "\n",
    "    X = torch.tensor(X)\n",
    "    Y = torch.tensor(Y)\n",
    "    print(X.shape, Y.shape)\n",
    "    return X, Y\n",
    "\n",
    "n1 = int(0.8*len(words))\n",
    "n2 = int(0.9*len(words))\n",
    "\n",
    "Xtrain,  Ytrain  = build_dataset(words[:n1])    \n",
    "Xdev, Ydev = build_dataset(words[n1:n2])  \n",
    "Xtest,  Ytest  = build_dataset(words[n2:])    "
   ]
  },
  {
   "cell_type": "code",
   "execution_count": 11,
   "id": "96df6195",
   "metadata": {},
   "outputs": [
    {
     "name": "stdout",
     "output_type": "stream",
     "text": [
      "........ -----> y\n",
      ".......y -----> u\n",
      "......yu -----> h\n",
      ".....yuh -----> e\n",
      "....yuhe -----> n\n",
      "...yuhen -----> g\n",
      "..yuheng -----> .\n",
      "........ -----> d\n",
      ".......d -----> i\n",
      "......di -----> o\n",
      ".....dio -----> n\n",
      "....dion -----> d\n",
      "...diond -----> r\n",
      "..diondr -----> e\n",
      ".diondre -----> .\n",
      "........ -----> x\n",
      ".......x -----> a\n",
      "......xa -----> v\n",
      ".....xav -----> i\n",
      "....xavi -----> e\n"
     ]
    }
   ],
   "source": [
    "for x, y in zip(Xtrain[:20], Ytrain[:20]):\n",
    "    print(''.join([itos[ix.item()] for ix in x]), '----->', itos[y.item()])"
   ]
  },
  {
   "cell_type": "code",
   "execution_count": 45,
   "id": "7b1f361e",
   "metadata": {},
   "outputs": [],
   "source": [
    "class Linear:\n",
    "    \n",
    "    def __init__(self, fan_in, fan_out, bias = True):\n",
    "        self.weight = torch.randn((fan_in, fan_out)) / fan_in ** 0.5\n",
    "        self.bias = torch.zeros(fan_out) if bias else None\n",
    "        \n",
    "    def __call__(self, x):\n",
    "        self.out = x @ self.weight\n",
    "        if self.bias is not None:\n",
    "            self.out += self.bias\n",
    "        return self.out\n",
    "    \n",
    "    def parameters(self):\n",
    "        return [self.weight] + ([] if self.bias is None else [self.bias])\n",
    "    \n",
    "    \n",
    "class BatchNorm1d:\n",
    "    \n",
    "    def __init__(self, dim, eps=1e-5, momentum=0.1):\n",
    "        self.eps = eps\n",
    "        self.momentum = momentum\n",
    "        self.training = True\n",
    "        \n",
    "            \n",
    "        self.gamma = torch.ones(dim)\n",
    "        self.beta  = torch.zeros(dim)\n",
    "        \n",
    "        self.running_mean = torch.zeros(dim)\n",
    "        self.running_var  = torch.ones(dim)\n",
    "    \n",
    "    def __call__(self, x):\n",
    "         \n",
    "        if self.training:\n",
    "            if(x.ndim == 2):\n",
    "                dim = 0          \n",
    "            elif(x.ndim == 3):\n",
    "                dim = (0, 1)\n",
    "                \n",
    "            xmean = x.mean(dim, keepdim=True)\n",
    "            xvar  = x.var(dim, keepdim=True)\n",
    "        \n",
    "        else:\n",
    "            xmean = self.running_mean\n",
    "            xvar  = self.running_var\n",
    "            \n",
    "        xhat = (x - xmean) / torch.sqrt(xvar + self.eps)\n",
    "        self.out = self.gamma * xhat + self.beta\n",
    "        \n",
    "        if self.training:\n",
    "            with torch.no_grad():\n",
    "                self.running_mean = (1 - self.momentum) * self.running_mean + self.momentum * xmean\n",
    "                self.running_var = (1 - self.momentum) * self.running_var + self.momentum * xvar\n",
    "        \n",
    "        return self.out\n",
    "    \n",
    "    def parameters(self):\n",
    "        return [self.gamma, self.beta]\n",
    "    \n",
    "class Tanh:\n",
    "    \n",
    "    def __call__(self, x):\n",
    "        self.out = torch.tanh(x)\n",
    "        return self.out\n",
    "    \n",
    "    def parameters(self):\n",
    "        return []\n",
    "\n",
    "class Embedding:\n",
    "    \n",
    "    def __init__(self, vocab_size, n_embd):\n",
    "        self.weight = torch.randn((vocab_size, n_embd)) \n",
    "        \n",
    "    def __call__(self, ix):\n",
    "        self.out = self.weight[ix]\n",
    "        return self.out\n",
    "    \n",
    "    def parameters(self):\n",
    "        return [self.weight]\n",
    "    \n",
    "class Flatten():\n",
    "    \n",
    "    def __call__(self, x):\n",
    "        self.out = x.view(x.shape[0], -1)\n",
    "        return self.out\n",
    "    \n",
    "    def parameters(self):\n",
    "        return []\n",
    "\n",
    "    \n",
    "class FlattenConsecutive():\n",
    "    \n",
    "    def __init__(self, n):\n",
    "        self.n = n\n",
    "        \n",
    "    def __call__(self, x):\n",
    "        B, T, C = x.shape\n",
    "        x = x.view(B, T//self.n, self.n * C)\n",
    "        \n",
    "        if(T//self.n == 1):\n",
    "            x = x.squeeze(1)\n",
    "        \n",
    "        self.out = x\n",
    "        return self.out\n",
    "\n",
    "    def parameters(self):\n",
    "        return []\n",
    "\n",
    "    \n",
    "class Sequential():\n",
    "    def __init__(self, layers):\n",
    "        self.layers = layers\n",
    "        \n",
    "    def __call__(self, x):\n",
    "        for layer in self.layers:\n",
    "            x = layer(x)\n",
    "        \n",
    "        self.out = x\n",
    "        return self.out\n",
    "    \n",
    "    def parameters(self):\n",
    "        return [p for layer in self.layers for p in layer.parameters()]"
   ]
  },
  {
   "cell_type": "code",
   "execution_count": 46,
   "id": "a3c6cb8b",
   "metadata": {},
   "outputs": [
    {
     "data": {
      "text/plain": [
       "<torch._C.Generator at 0x7efffc6c0570>"
      ]
     },
     "execution_count": 46,
     "metadata": {},
     "output_type": "execute_result"
    }
   ],
   "source": [
    "torch.manual_seed(42)"
   ]
  },
  {
   "cell_type": "code",
   "execution_count": 47,
   "id": "9ad4a0c8",
   "metadata": {},
   "outputs": [
    {
     "name": "stdout",
     "output_type": "stream",
     "text": [
      "76579\n"
     ]
    }
   ],
   "source": [
    "# Hierarchical Accumulation (Wavenet)\n",
    "\n",
    "n_embd   = 24\n",
    "n_hidden = 128\n",
    "model = Sequential([\n",
    "          Embedding(vocab_size, n_embd),\n",
    "          FlattenConsecutive(2), Linear(2 * n_embd, n_hidden, bias=False), BatchNorm1d(n_hidden), Tanh(),\n",
    "          FlattenConsecutive(2), Linear(2 * n_hidden, n_hidden, bias=False), BatchNorm1d(n_hidden), Tanh(),\n",
    "          FlattenConsecutive(2), Linear(2 * n_hidden, n_hidden, bias=False), BatchNorm1d(n_hidden), Tanh(),\n",
    "          Linear(n_hidden, vocab_size), \n",
    "         ])\n",
    "\n",
    "with torch.no_grad():\n",
    "    # Controlling logits from the last layer\n",
    "    model.layers[-1].weight *= 0.1\n",
    "    \n",
    "parameters = model.parameters()\n",
    "print(sum(p.nelement() for p in parameters))\n",
    "\n",
    "for p in parameters:\n",
    "    p.requires_grad = True"
   ]
  },
  {
   "cell_type": "code",
   "execution_count": 48,
   "id": "2faa0df4",
   "metadata": {
    "scrolled": true
   },
   "outputs": [
    {
     "name": "stdout",
     "output_type": "stream",
     "text": [
      "      0 /  200000 :  3.2994\n",
      "  10000 /  200000 :  1.7319\n",
      "  20000 /  200000 :  2.4842\n",
      "  30000 /  200000 :  2.0568\n",
      "  40000 /  200000 :  2.1569\n",
      "  50000 /  200000 :  1.6428\n",
      "  60000 /  200000 :  2.0314\n",
      "  70000 /  200000 :  1.9847\n",
      "  80000 /  200000 :  2.2094\n",
      "  90000 /  200000 :  2.0769\n",
      " 100000 /  200000 :  1.7326\n",
      " 110000 /  200000 :  2.0329\n",
      " 120000 /  200000 :  1.8698\n",
      " 130000 /  200000 :  1.8927\n",
      " 140000 /  200000 :  1.8058\n",
      " 150000 /  200000 :  1.8370\n",
      " 160000 /  200000 :  1.7043\n",
      " 170000 /  200000 :  1.9966\n",
      " 180000 /  200000 :  1.9045\n",
      " 190000 /  200000 :  1.6717\n"
     ]
    }
   ],
   "source": [
    "# Training loop\n",
    "\n",
    "max_steps  = 200000\n",
    "batch_size = 32\n",
    "lossi      = []\n",
    "# ud         = [] # Maintaining an update to data ratio\n",
    "\n",
    "for i in range(max_steps):\n",
    "    # Construct a mini-batch\n",
    "    idx = torch.randint(0, Xtrain.shape[0], (batch_size, ), generator = g)\n",
    "    Xb, Yb = Xtrain[idx], Ytrain[idx]\n",
    "    \n",
    "    # Forward pass\n",
    "    logits = model(Xb)\n",
    "    \n",
    "    # Compute Loss\n",
    "    loss = F.cross_entropy(logits, Yb)\n",
    "    \n",
    "    # Zero out gradients    \n",
    "    for p in parameters:\n",
    "        p.grad = None\n",
    "        \n",
    "    # Backprop\n",
    "    loss.backward()\n",
    "    \n",
    "    # Optimization step\n",
    "    lr = 0.1 if i < 150000 else 0.01\n",
    "    for p in parameters:\n",
    "        p.data += -lr * p.grad\n",
    "        \n",
    "    # Keeping track of metrics\n",
    "    if(i % 10000 == 0):\n",
    "        print(f'{i : 7d} / {max_steps : 7d} : {loss.item() : .4f}')\n",
    "        \n",
    "    lossi.append(loss.log10().item())\n",
    "    \n",
    "#     with torch.no_grad():\n",
    "#         ud.append([(lr * p.grad.std() / p.data.std()).log10().item() for p in parameters])\n",
    "    \n",
    "#     if i >= 1000: \n",
    "#         break"
   ]
  },
  {
   "cell_type": "code",
   "execution_count": 49,
   "id": "c0d9ff5a",
   "metadata": {},
   "outputs": [
    {
     "data": {
      "text/plain": [
       "[<matplotlib.lines.Line2D at 0x7efec8405ca0>]"
      ]
     },
     "execution_count": 49,
     "metadata": {},
     "output_type": "execute_result"
    },
    {
     "data": {
      "image/png": "[encoded data removed]",
      "text/plain": [
       "<Figure size 640x480 with 1 Axes>"
      ]
     },
     "metadata": {},
     "output_type": "display_data"
    }
   ],
   "source": [
    "plt.plot(torch.tensor(lossi).view(-1, 1000).mean(1))"
   ]
  },
  {
   "cell_type": "code",
   "execution_count": 50,
   "id": "e563ca26",
   "metadata": {},
   "outputs": [],
   "source": [
    "# put layers into eval mode (needed for batchnorm)\n",
    "for layer in model.layers:\n",
    "      layer.training = False"
   ]
  },
  {
   "cell_type": "code",
   "execution_count": 54,
   "id": "8dbf4e99",
   "metadata": {},
   "outputs": [
    {
     "name": "stdout",
     "output_type": "stream",
     "text": [
      "train 1.763641119003296\n",
      "dev 1.992708683013916\n"
     ]
    }
   ],
   "source": [
    "# Evaluate loss\n",
    "@torch.no_grad() \n",
    "def split_loss(split):\n",
    "    x,y = {\n",
    "            'train': (Xtrain, Ytrain),\n",
    "            'dev': (Xdev, Ydev),\n",
    "            'test': (Xtest, Ytest),\n",
    "          }[split]\n",
    "    \n",
    "    logits = model(x)\n",
    "    loss = F.cross_entropy(logits, y)\n",
    "    print(split, loss.item())\n",
    "\n",
    "split_loss('train')\n",
    "split_loss('dev')"
   ]
  },
  {
   "cell_type": "code",
   "execution_count": 55,
   "id": "5625ef53",
   "metadata": {},
   "outputs": [],
   "source": [
    "# Hierarhical Accumulation (Wavenet like model on text)\n",
    "# train 1.763641119003296\n",
    "# dev 1.992708683013916"
   ]
  },
  {
   "cell_type": "code",
   "execution_count": 56,
   "id": "f3a8e308",
   "metadata": {},
   "outputs": [],
   "source": [
    "# Using the model as a generator"
   ]
  },
  {
   "cell_type": "code",
   "execution_count": 57,
   "id": "c7869e40",
   "metadata": {},
   "outputs": [
    {
     "name": "stdout",
     "output_type": "stream",
     "text": [
      "amiyrah.\n",
      "lelanie.\n",
      "kerren.\n",
      "yousiel.\n",
      "pranze.\n",
      "rayven.\n",
      "tayson.\n",
      "ozell.\n",
      "frestyn.\n",
      "socia.\n",
      "yazmard.\n",
      "laghen.\n",
      "leeanna.\n",
      "kalyce.\n",
      "pryssa.\n",
      "annassandra.\n",
      "thorey.\n",
      "espley.\n",
      "azaiya.\n",
      "janove.\n"
     ]
    }
   ],
   "source": [
    "for _ in range(20):\n",
    "    out = []\n",
    "    context = [0] * block_size \n",
    "    while True:\n",
    "        logits = model(torch.tensor([context]))\n",
    "        probs = F.softmax(logits, dim=1)\n",
    "        ix = torch.multinomial(probs, num_samples=1).item()\n",
    "        context = context[1:] + [ix]\n",
    "        out.append(ix)\n",
    "        if ix == 0:\n",
    "            break\n",
    "    \n",
    "    print(''.join(itos[i] for i in out))"
   ]
  },
  {
   "cell_type": "code",
   "execution_count": null,
   "id": "3ab9e0ea",
   "metadata": {},
   "outputs": [],
   "source": []
  }
 ],
 "metadata": {
  "kernelspec": {
   "display_name": "Python 3 (ipykernel)",
   "language": "python",
   "name": "python3"
  },
  "language_info": {
   "codemirror_mode": {
    "name": "ipython",
    "version": 3
   },
   "file_extension": ".py",
   "mimetype": "text/x-python",
   "name": "python",
   "nbconvert_exporter": "python",
   "pygments_lexer": "ipython3",
   "version": "3.8.2"
  }
 },
 "nbformat": 4,
 "nbformat_minor": 5
}
